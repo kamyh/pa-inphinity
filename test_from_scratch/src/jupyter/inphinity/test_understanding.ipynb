{
 "cells": [
  {
   "cell_type": "code",
   "execution_count": 7,
   "metadata": {
    "collapsed": false
   },
   "outputs": [
    {
     "name": "stdout",
     "output_type": "stream",
     "text": [
      "198\n",
      "|KP866928.1_prot_AKV56269.1_1 [gene=G] [protein=glycoprotein] [protein_id=AKV56269.1] [location=1..1524]\n",
      "MEWNTFFLVILIIIIKSTTPQITQRPPVENISTYHADWDTPLYTHPSNCRDDSFVPFHQAQLRCPHEFED\n",
      "TNKGLVSVPTRIVHLPLSVTSVSAVASGHYLHRVTYRVTCSTGFFGGQTIEKTILEAKLSRQEASDEASK\n",
      "DHEYPFFPEPSCIWMKDNVHKDITHYYKTPKTVSVDLYSRKFLNPDFIEGVCTTSPCQTHWQGVYWVGDT\n",
      "PKAHCPTPETLEGHLFTRTHHHRVVKAIVAGHHPWGLTMACTVTFCGGAWIKTDLGDLIQVTGPEGTRKL\n",
      "TPNKCVNTDVQMRGATDDFSYLNHLITNMAQRTECLDAHSDITASGKVSPFLLSKFRPSHPGPGKAHYLL\n",
      "DGQIMRGDCDYEAVVSINYNSAQYKTVNNTWKSWKRVDNNTDGYDGMIFGDKLIIPDIEKYQSVYDSGML\n",
      "VQRNLVEVPHLSIVFVSNTSDLSTNHIHTNLIPSDWSFNWSLWPSLSGMGVVGGALLLLVLCCCCKASPP\n",
      "IPNYGIPMQQFSRSQTV\n",
      "\n",
      "\n",
      "|KM244768.1_prot_AKC42401.1_3 [gene=M] [protein=matrix protein] [protein_id=AKC42401.1] [location=2217..2822]\n",
      "MTLFKRKRTILVPPPHITSNDEDRVSTILTEGTLTITGPPPGNQVDKICMAMKLARAILCEDQHPAFNPL\n",
      "VHLFQSAMIFGETSEKIDFGTRSKTLITSFKIAEAKAIYLDSSPVRSRIEAKKYTTPIRHGSVTYYGPFV\n",
      "FADDHVGGKGHREKLGALCGFLQSGPYGQAKDYYNRAVEEEMGILPRDPKRRSGASSAQPR\n",
      "\n"
     ]
    }
   ],
   "source": [
    "from Bio import Entrez\n",
    "Entrez.email = \"vincent.deruaz@master.hes-so.ch\"\n",
    "\n",
    "query = 'G[gene] AND VHSV[orgn] NOT \"mRNA\"[title] AND \"complete cds\"[title]'\n",
    "handle = Entrez.esearch(db='nucleotide',retmax=1000,term=query)\n",
    "record = Entrez.read(handle)\n",
    "gi = record['IdList']\n",
    "print (len(gi))\n",
    "\n",
    "protein_seq = Entrez.efetch(db=\"nucleotide\",id=gi,rettype=\"fasta_cds_aa\",retmode=\"text\")\n",
    "protein_seq = protein_seq.read().split('>lcl')[1:]\n",
    "\n",
    "print (protein_seq[0])\n",
    "print (protein_seq[6])\n",
    "\n",
    "updated_protein_seq = ['>'+ps for i,ps in enumerate(protein_seq) if ps.find('gene=G')>0]    \n",
    "final_protein_seq = ['>'+ps.split('|')[1].split('_prot')[0]+'_COUNTRY_'+str(i)+'\\n'+ps.replace('\\n','').split(']')[-1]+'\\n' for i,ps in enumerate(updated_protein_seq)]\n",
    "\n",
    "fo = open('labo-2_protein-sequences.fasta','w')\n",
    "final_protein_seq = str(final_protein_seq)\n",
    "final_protein_seq = final_protein_seq.replace(\", \",\"\").replace(\"'\",\"\").replace('\"','').replace(\"\\\\n\",\"\\n\").strip('[]')\n",
    "fo.write(final_protein_seq)\n",
    "fo.close()"
   ]
  },
  {
   "cell_type": "code",
   "execution_count": 10,
   "metadata": {
    "collapsed": false
   },
   "outputs": [
    {
     "ename": "ApplicationError",
     "evalue": "Non-zero return code 127 from '/usr/bin/muscle -in labo-2_protein-sequences.fasta -out labo-2_protein-sequences.aln -clwstrict', message '/bin/sh: 1: /usr/bin/muscle: not found'",
     "output_type": "error",
     "traceback": [
      "\u001b[1;31m\u001b[0m",
      "\u001b[1;31mApplicationError\u001b[0mTraceback (most recent call last)",
      "\u001b[1;32m<ipython-input-10-47f53907818c>\u001b[0m in \u001b[0;36m<module>\u001b[1;34m()\u001b[0m\n\u001b[0;32m      5\u001b[0m \u001b[1;33m\u001b[0m\u001b[0m\n\u001b[0;32m      6\u001b[0m \u001b[0mmuscle_cline\u001b[0m \u001b[1;33m=\u001b[0m \u001b[0mMuscleCommandline\u001b[0m\u001b[1;33m(\u001b[0m\u001b[0mcmd\u001b[0m\u001b[1;33m=\u001b[0m\u001b[0mmuscle_loc\u001b[0m\u001b[1;33m,\u001b[0m\u001b[0minput\u001b[0m\u001b[1;33m=\u001b[0m\u001b[1;34m'labo-2_protein-sequences.fasta'\u001b[0m\u001b[1;33m,\u001b[0m\u001b[0mout\u001b[0m\u001b[1;33m=\u001b[0m\u001b[1;34m'labo-2_protein-sequences.aln'\u001b[0m\u001b[1;33m,\u001b[0m\u001b[0mclwstrict\u001b[0m\u001b[1;33m=\u001b[0m\u001b[1;32mTrue\u001b[0m\u001b[1;33m)\u001b[0m\u001b[1;33m\u001b[0m\u001b[0m\n\u001b[1;32m----> 7\u001b[1;33m \u001b[0mstdout\u001b[0m\u001b[1;33m,\u001b[0m \u001b[0mstderr\u001b[0m \u001b[1;33m=\u001b[0m \u001b[0mmuscle_cline\u001b[0m\u001b[1;33m(\u001b[0m\u001b[1;33m)\u001b[0m\u001b[1;33m\u001b[0m\u001b[0m\n\u001b[0m\u001b[0;32m      8\u001b[0m \u001b[1;33m\u001b[0m\u001b[0m\n\u001b[0;32m      9\u001b[0m \u001b[0mmuscle_align\u001b[0m \u001b[1;33m=\u001b[0m \u001b[0mAlignIO\u001b[0m\u001b[1;33m.\u001b[0m\u001b[0mread\u001b[0m\u001b[1;33m(\u001b[0m\u001b[1;34m'labo-2_protein-sequences.aln'\u001b[0m\u001b[1;33m,\u001b[0m\u001b[1;34m'clustal'\u001b[0m\u001b[1;33m)\u001b[0m\u001b[1;33m\u001b[0m\u001b[0m\n",
      "\u001b[1;32m/opt/conda/lib/python3.5/site-packages/Bio/Application/__init__.py\u001b[0m in \u001b[0;36m__call__\u001b[1;34m(self, stdin, stdout, stderr, cwd, env)\u001b[0m\n\u001b[0;32m    515\u001b[0m         \u001b[1;32mif\u001b[0m \u001b[0mreturn_code\u001b[0m\u001b[1;33m:\u001b[0m\u001b[1;33m\u001b[0m\u001b[0m\n\u001b[0;32m    516\u001b[0m             raise ApplicationError(return_code, str(self),\n\u001b[1;32m--> 517\u001b[1;33m                                    stdout_str, stderr_str)\n\u001b[0m\u001b[0;32m    518\u001b[0m         \u001b[1;32mreturn\u001b[0m \u001b[0mstdout_str\u001b[0m\u001b[1;33m,\u001b[0m \u001b[0mstderr_str\u001b[0m\u001b[1;33m\u001b[0m\u001b[0m\n\u001b[0;32m    519\u001b[0m \u001b[1;33m\u001b[0m\u001b[0m\n",
      "\u001b[1;31mApplicationError\u001b[0m: Non-zero return code 127 from '/usr/bin/muscle -in labo-2_protein-sequences.fasta -out labo-2_protein-sequences.aln -clwstrict', message '/bin/sh: 1: /usr/bin/muscle: not found'"
     ]
    }
   ],
   "source": [
    "from Bio.Align.Applications import MuscleCommandline\n",
    "from Bio import AlignIO\n",
    "\n",
    "muscle_loc = r'/usr/bin/muscle' # modifier si nécessaire\n",
    "\n",
    "muscle_cline = MuscleCommandline(cmd=muscle_loc,input='labo-2_protein-sequences.fasta',out='labo-2_protein-sequences.aln',clwstrict=True)\n",
    "stdout, stderr = muscle_cline()\n",
    "\n",
    "muscle_align = AlignIO.read('labo-2_protein-sequences.aln','clustal')\n",
    "print(muscle_align)"
   ]
  },
  {
   "cell_type": "code",
   "execution_count": null,
   "metadata": {
    "collapsed": true
   },
   "outputs": [],
   "source": []
  }
 ],
 "metadata": {
  "kernelspec": {
   "display_name": "Python 3",
   "language": "python",
   "name": "python3"
  },
  "language_info": {
   "codemirror_mode": {
    "name": "ipython",
    "version": 3
   },
   "file_extension": ".py",
   "mimetype": "text/x-python",
   "name": "python",
   "nbconvert_exporter": "python",
   "pygments_lexer": "ipython3",
   "version": "3.5.1"
  }
 },
 "nbformat": 4,
 "nbformat_minor": 0
}
