{
 "cells": [
  {
   "cell_type": "code",
   "execution_count": 1,
   "metadata": {
    "collapsed": false
   },
   "outputs": [
    {
     "name": "stdout",
     "output_type": "stream",
     "text": [
      "198\n",
      "|KP866928.1_prot_AKV56269.1_1 [gene=G] [protein=glycoprotein] [protein_id=AKV56269.1] [location=1..1524]\n",
      "MEWNTFFLVILIIIIKSTTPQITQRPPVENISTYHADWDTPLYTHPSNCRDDSFVPFHQAQLRCPHEFED\n",
      "TNKGLVSVPTRIVHLPLSVTSVSAVASGHYLHRVTYRVTCSTGFFGGQTIEKTILEAKLSRQEASDEASK\n",
      "DHEYPFFPEPSCIWMKDNVHKDITHYYKTPKTVSVDLYSRKFLNPDFIEGVCTTSPCQTHWQGVYWVGDT\n",
      "PKAHCPTPETLEGHLFTRTHHHRVVKAIVAGHHPWGLTMACTVTFCGGAWIKTDLGDLIQVTGPEGTRKL\n",
      "TPNKCVNTDVQMRGATDDFSYLNHLITNMAQRTECLDAHSDITASGKVSPFLLSKFRPSHPGPGKAHYLL\n",
      "DGQIMRGDCDYEAVVSINYNSAQYKTVNNTWKSWKRVDNNTDGYDGMIFGDKLIIPDIEKYQSVYDSGML\n",
      "VQRNLVEVPHLSIVFVSNTSDLSTNHIHTNLIPSDWSFNWSLWPSLSGMGVVGGALLLLVLCCCCKASPP\n",
      "IPNYGIPMQQFSRSQTV\n",
      "\n",
      "\n",
      "|KM244768.1_prot_AKC42401.1_3 [gene=M] [protein=matrix protein] [protein_id=AKC42401.1] [location=2217..2822]\n",
      "MTLFKRKRTILVPPPHITSNDEDRVSTILTEGTLTITGPPPGNQVDKICMAMKLARAILCEDQHPAFNPL\n",
      "VHLFQSAMIFGETSEKIDFGTRSKTLITSFKIAEAKAIYLDSSPVRSRIEAKKYTTPIRHGSVTYYGPFV\n",
      "FADDHVGGKGHREKLGALCGFLQSGPYGQAKDYYNRAVEEEMGILPRDPKRRSGASSAQPR\n",
      "\n"
     ]
    }
   ],
   "source": [
    "from Bio import Entrez\n",
    "Entrez.email = \"vincent.deruaz@master.hes-so.ch\"\n",
    "\n",
    "query = 'G[gene] AND VHSV[orgn] NOT \"mRNA\"[title] AND \"complete cds\"[title]'\n",
    "handle = Entrez.esearch(db='nucleotide',retmax=1000,term=query)\n",
    "record = Entrez.read(handle)\n",
    "gi = record['IdList']\n",
    "print (len(gi))\n",
    "\n",
    "protein_seq = Entrez.efetch(db=\"nucleotide\",id=gi,rettype=\"fasta_cds_aa\",retmode=\"text\")\n",
    "protein_seq = protein_seq.read().split('>lcl')[1:]\n",
    "\n",
    "print (protein_seq[0])\n",
    "print (protein_seq[6])\n",
    "\n",
    "updated_protein_seq = ['>'+ps for i,ps in enumerate(protein_seq) if ps.find('gene=G')>0]    \n",
    "final_protein_seq = ['>'+ps.split('|')[1].split('_prot')[0]+'_COUNTRY_'+str(i)+'\\n'+ps.replace('\\n','').split(']')[-1]+'\\n' for i,ps in enumerate(updated_protein_seq)]\n",
    "\n",
    "fo = open('labo-2_protein-sequences.fasta','w')\n",
    "final_protein_seq = str(final_protein_seq)\n",
    "final_protein_seq = final_protein_seq.replace(\", \",\"\").replace(\"'\",\"\").replace('\"','').replace(\"\\\\n\",\"\\n\").strip('[]')\n",
    "fo.write(final_protein_seq)\n",
    "fo.close()"
   ]
  },
  {
   "cell_type": "code",
   "execution_count": 5,
   "metadata": {
    "collapsed": false
   },
   "outputs": [
    {
     "name": "stdout",
     "output_type": "stream",
     "text": [
      "SingleLetterAlphabet() alignment with 198 rows and 507 columns\n",
      "MEWNTFFLVILIIIIKSTTSQITQRPPAENISTYHADWDTPLYT...QMI HQ112236.1_COUNTRY_110\n",
      "MEWNTFFLVILIIIIKSTTSQITQRPPAENISTYHADWDTPLYT...QMI HQ112233.1_COUNTRY_113\n",
      "MEWNTFFLVILIIIIKSTTSQITQRPPAENISTYHADWDTPLYT...QMI AY546577.1_COUNTRY_171\n",
      "MEWNTFFLVILIIIIKSTTSQITQRPPAENISTYHADWDTPLYT...QMI KM244767.1_COUNTRY_5\n",
      "MEWNTFFLVILIIIIKSTTSQITQRPPAENISTYHADWDTPLYT...QMI AY546578.1_COUNTRY_170\n",
      "MEWNTFFLVILIIIIKSTTSQITQRPPAENISTYHADWDTPLYT...QMI AY546576.1_COUNTRY_172\n",
      "MEWNTFFLVILIIIIKSTTSQITQRPPAENISTYHADWDTPLYT...QMI HQ112246.1_COUNTRY_100\n",
      "MEWNTFFLVILIIIIKSTTSQITQRPPAENISTYHADWDTPLYT...QMI HQ112243.1_COUNTRY_103\n",
      "MEWNTFFLVILIIIIKSTTSQIIQRPPAENISTYHADWDTPLYT...QMI HQ112245.1_COUNTRY_101\n",
      "MEWNTFFLVILIIIIKSTTSQIIQRPPAENISTYHADWDTPLYT...QMI HQ112244.1_COUNTRY_102\n",
      "MEWNTFFLVILIIIIKSTTSQIIQRPPAENISTYHADWDTPLYT...QMI HQ112239.1_COUNTRY_107\n",
      "MEWNTFFLVILIIIIKSTTSQIIQRPPAENISTYHADWDTPLYT...QMI HQ112238.1_COUNTRY_108\n",
      "MEWNTFFLVILIIIIKSTTSQIIQRPPAENISTYHADWDTPLYT...QMI HQ112237.1_COUNTRY_109\n",
      "MEWNTFFLVILIIIIKSTTSQIIQRPPAENISTYHADWDTPLYT...QMI HQ112235.1_COUNTRY_111\n",
      "MEWNTFFLVILIIIIKSTTSQIIQRPPAENISTYHADWDTPLYT...QMI HQ112234.1_COUNTRY_112\n",
      "MEWNTFFLVILIIIIKSTTSQITQRPPAENISTYHADWDTPLYT...QMI HQ112248.1_COUNTRY_98\n",
      "MEWNTFFLVILIIIIKSTTSQITQRPPAENISTYHADWDTPLYT...QMI HQ112241.1_COUNTRY_105\n",
      "MEWNTFFLVILIIIIKSTTSQITQRPPAENISTYHADWDTPLYT...QMI HQ112242.1_COUNTRY_104\n",
      "...\n",
      "MEWNTFFLVILIIIIKSTTSQITQRPPVENISTYHADWDTPLYT...QMV DQ401188.1_COUNTRY_193\n"
     ]
    }
   ],
   "source": [
    "from Bio.Align.Applications import MuscleCommandline\n",
    "from Bio import AlignIO\n",
    "\n",
    "muscle_loc = r'/home/pa/work/muscle3.8.31_i86linux64' # modifier si nécessaire\n",
    "\n",
    "muscle_cline = MuscleCommandline(cmd=muscle_loc,input='labo-2_protein-sequences.fasta',out='labo-2_protein-sequences.aln',clwstrict=True)\n",
    "stdout, stderr = muscle_cline()\n",
    "\n",
    "muscle_align = AlignIO.read('labo-2_protein-sequences.aln','clustal')\n",
    "print(muscle_align)"
   ]
  },
  {
   "cell_type": "code",
   "execution_count": null,
   "metadata": {
    "collapsed": true
   },
   "outputs": [],
   "source": []
  }
 ],
 "metadata": {
  "kernelspec": {
   "display_name": "Python 3",
   "language": "python",
   "name": "python3"
  },
  "language_info": {
   "codemirror_mode": {
    "name": "ipython",
    "version": 3
   },
   "file_extension": ".py",
   "mimetype": "text/x-python",
   "name": "python",
   "nbconvert_exporter": "python",
   "pygments_lexer": "ipython3",
   "version": "3.5.1"
  }
 },
 "nbformat": 4,
 "nbformat_minor": 0
}
