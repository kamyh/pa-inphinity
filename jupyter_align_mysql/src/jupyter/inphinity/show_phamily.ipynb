{
 "cells": [
  {
   "cell_type": "code",
   "execution_count": null,
   "metadata": {
    "collapsed": false
   },
   "outputs": [],
   "source": [
    "import pymysql.cursors\n",
    "from Bio.Align.Applications import MuscleCommandline\n",
    "from Bio import AlignIO\n",
    "from Bio.Phylo.Applications import FastTreeCommandline\n",
    "from Bio import Phylo\n",
    "%matplotlib inline\n",
    "import scipy.cluster.hierarchy as cl\n",
    "import scipy.spatial.distance as ssd\n",
    "import matplotlib\n",
    "import matplotlib.pyplot as plt\n"
   ]
  },
  {
   "cell_type": "code",
   "execution_count": null,
   "metadata": {
    "collapsed": false
   },
   "outputs": [],
   "source": [
    "class sea_inphinity():\n",
    "    def __init__(self, db_name):\n",
    "        self.db_name = db_name\n",
    "        self.connection()\n",
    "        self.verbose = True\n",
    "        \n",
    "    def print_(self, string):\n",
    "        if self.verbose:\n",
    "            print(string)\n",
    "        \n",
    "    def connection(self):\n",
    "        # Connect to the database\n",
    "        self.connection = pymysql.connect(host='localhost',\n",
    "                                     user='root',\n",
    "                                     password='',\n",
    "                                     db=self.db_name,\n",
    "                                     charset='utf8mb4',\n",
    "                                     cursorclass=pymysql.cursors.DictCursor)\n",
    "        \n",
    "    def simple_execute(self, sql, verbose):\n",
    "        try:\n",
    "            with self.connection.cursor() as cursor:\n",
    "                res = cursor.execute(sql)\n",
    "\n",
    "                if verbose:\n",
    "                    self.print_(res)\n",
    "                    \n",
    "                return res\n",
    "\n",
    "            self.connection.commit()\n",
    "        finally:\n",
    "            pass\n",
    "        \n",
    "    def get_list_pham(self, limit):\n",
    "        cur = self.connection.cursor()\n",
    "\n",
    "        if limit == -1:\n",
    "            sql = \"SELECT * FROM pham\"\n",
    "        else:\n",
    "            sql = \"SELECT * FROM pham LIMIT %d\" % (limit)\n",
    "        cur.execute(sql)\n",
    "\n",
    "        for row in cur:\n",
    "            self.print_(row)\n",
    "\n",
    "        return cur\n",
    "        \n",
    "    \n",
    "    def get_list_name_pham(self, limit):\n",
    "        cur = self.connection.cursor()\n",
    "\n",
    "        if limit == -1:\n",
    "            sql = \"SELECT name FROM pham GROUP BY name\"\n",
    "        else:\n",
    "            sql = \"SELECT name FROM pham GROUP BY name LIMIT %d\" % (limit)\n",
    "        cur.execute(sql)\n",
    "        \n",
    "        list_name = []\n",
    "        for name in list(cur):\n",
    "            list_name.append(name['name'])\n",
    "\n",
    "        return list_name\n",
    "    \n",
    "    def get_specific_pham(self, name):\n",
    "        cur = self.connection.cursor()\n",
    "\n",
    "        cur.execute(\"SELECT GeneID FROM pham WHERE name = %s\", (name))\n",
    "\n",
    "        return cur\n",
    "    \n",
    "    def get_list_genes(self, gene_ids, verbose):\n",
    "        cur = self.connection.cursor()\n",
    "        \n",
    "        sql = \"SELECT * FROM gene WHERE GeneID IN ('%s');\" % ( \"','\".join(gene_ids))\n",
    "        \n",
    "        cur.execute(sql)\n",
    "\n",
    "        if verbose:\n",
    "            for row in cur:\n",
    "                self.print_(row)\n",
    "\n",
    "        return list(cur.fetchall())\n",
    "    \n",
    "    def get_phage(self, phage_id, verbose):\n",
    "        cur = self.connection.cursor()\n",
    "        \n",
    "        sql = \"SELECT * FROM phage WHERE PhageID = '%s';\" % (phage_id)\n",
    "        \n",
    "        cur.execute(sql)\n",
    "\n",
    "        if verbose:\n",
    "            for row in cur:\n",
    "                self.print_(row)\n",
    "\n",
    "        return list(cur.fetchall())\n",
    "    \n",
    "    def get_phage_from_gene_id(self, gene_id):\n",
    "        phage = sea_inphinity.get_phage(sea_inphinity.get_list_genes([gene_id], False)[0]['PhageID'], False)[0]\n",
    "        return phage\n",
    "    \n",
    "    def build_tree(self,pham):\n",
    "        genes = self.get_genes_from_a_pham(pham)\n",
    "        self.create_fasta(genes)\n",
    "        self.align_muscle()\n",
    "        self.compute_tree()\n",
    "        self.draw_tree()\n",
    "    \n",
    "    def get_genes_from_a_pham(self, pham):\n",
    "        pham_list = []\n",
    "        pham = sea_inphinity.get_specific_pham(pham)\n",
    "        for id in pham:\n",
    "            pham_list.append(id['GeneID'])\n",
    "            self.print_(id)\n",
    "        #print(pham_list)\n",
    "        genes = sea_inphinity.get_list_genes(pham_list, False)\n",
    "        \n",
    "        return genes\n",
    "        \n",
    "    def create_fasta(self, genes):\n",
    "        print('Creation of the FASTA file')\n",
    "        fasta = open(\"fasta.fa\", \"w\")\n",
    "        self.print_(\"Number of Genes: %d\" % (len(genes)))\n",
    "        for gene in genes:\n",
    "            GeneID = gene['GeneID']\n",
    "            name = gene['Name']\n",
    "            description = \">%s - %s\" % (GeneID, name)\n",
    "\n",
    "            translation = gene['translation']\n",
    "\n",
    "            self.print_(description)\n",
    "            self.print_(translation)\n",
    "\n",
    "            fasta.write(description)\n",
    "            fasta.write('\\n')\n",
    "            fasta.write(translation)\n",
    "            fasta.write('\\n')\n",
    "\n",
    "        fasta.close()\n",
    "        \n",
    "    def align_muscle(self):\n",
    "        print('Alignment with MUSCLE')\n",
    "        muscle_loc = r'/home/pa/work/muscle3.8.31_i86linux64' # modifier si nécessaire\n",
    "\n",
    "        muscle_cline = MuscleCommandline(cmd=muscle_loc,input='fasta.fa',out='out.aln',clwstrict=True)\n",
    "        stdout, stderr = muscle_cline()\n",
    "\n",
    "        muscle_align = AlignIO.read('out.aln','clustal')\n",
    "        self.print_(muscle_align)\n",
    "        \n",
    "    def compute_tree(self):\n",
    "        print('Compute tree')\n",
    "        AlignIO.convert('out.aln','clustal','intermediate.phy', 'phylip-relaxed')\n",
    "\n",
    "        cmd_fasttree = r'fasttree'\n",
    "        fasttree_cmdline = FastTreeCommandline(cmd=cmd_fasttree,fastest=True, \\\n",
    "                                               input='intermediate.phy',out='tree.tre')\n",
    "        out_log, err_log = fasttree_cmdline()\n",
    "\n",
    "        self.print_('Out Log:')\n",
    "        self.print_(out_log)\n",
    "\n",
    "        self.print_('Error Log')\n",
    "        self.print_(err_log)\n",
    "        \n",
    "        self.tree = Phylo.read('tree.tre', 'newick')\n",
    "        \n",
    "    def draw_tree(self):\n",
    "        print('Draw tree')\n",
    "        dmat = []\n",
    "        self.leaves = [str(cladit) for k,cladit in enumerate(self.tree.get_terminals())]\n",
    "        for l1,leave1 in enumerate(self.leaves):\n",
    "            d = []\n",
    "            for l2,leave2 in enumerate(self.leaves):\n",
    "                d.append(self.tree.distance(leave1,leave2))\n",
    "            dmat.append(d)\n",
    "            \n",
    "        Z = cl.linkage(ssd.squareform(dmat),method='average',metric='euclidean')\n",
    "        fig = plt.figure(num=None,figsize=(30,25),dpi=250)\n",
    "        dendro=cl.dendrogram(Z,labels=self.leaves,color_threshold=0.06,leaf_rotation=90,leaf_font_size=10)\n",
    "        plt.show()\n",
    "        plt.savefig('tree.png')\n",
    "        \n",
    "    def print_informations_on_phage(self, gene_id):\n",
    "        phage = sea_inphinity.get_phage_from_gene_id(gene_id)\n",
    "        print(\"******************************** \\\n",
    "              \\nGene ID: %s \\nPhage ID: %s \\nPhage Name: %s \\nHostStrain: %s \\\n",
    "              \\n********************************\" \\\n",
    "              % (gene_id, phage['PhageID'], phage['Name'], phage['HostStrain']))\n",
    "        \n",
    "    def print_informations_on_phages(self, gene_ids):\n",
    "        for gene_id in gene_ids:\n",
    "            self.print_informations_on_phage(gene_id)\n",
    "\n",
    "    \n",
    "sea_inphinity = sea_inphinity('sea')"
   ]
  },
  {
   "cell_type": "code",
   "execution_count": null,
   "metadata": {
    "collapsed": false
   },
   "outputs": [],
   "source": [
    "sea_inphinity.verbose = False\n",
    "sea_inphinity.build_tree('2799')"
   ]
  },
  {
   "cell_type": "code",
   "execution_count": null,
   "metadata": {
    "collapsed": false
   },
   "outputs": [],
   "source": [
    "sea_inphinity.get_list_pham(5)\n",
    "sea_inphinity.get_list_name_pham(-1)"
   ]
  },
  {
   "cell_type": "code",
   "execution_count": null,
   "metadata": {
    "collapsed": false
   },
   "outputs": [],
   "source": [
    "print(sea_inphinity.tree.get_terminals())"
   ]
  },
  {
   "cell_type": "code",
   "execution_count": null,
   "metadata": {
    "collapsed": false
   },
   "outputs": [],
   "source": [
    "Clade(branch_length=0.02764, name='663557_12')\n",
    "Clade(branch_length=0.0, name='Backyardigan-DRAFT_gp12')\n",
    "Clade(branch_length=0.0, name='Wile-DRAFT_gp11')"
   ]
  },
  {
   "cell_type": "code",
   "execution_count": null,
   "metadata": {
    "collapsed": false
   },
   "outputs": [],
   "source": [
    "Clade(branch_length=0.00623, name='Vix-DRAFT_gp11')\n",
    "Clade(branch_length=0.0, name='Microwolf-DRAFT_gp14')\n",
    "Clade(branch_length=0.0, name='205870_14')"
   ]
  },
  {
   "cell_type": "code",
   "execution_count": null,
   "metadata": {
    "collapsed": false
   },
   "outputs": [],
   "source": [
    "print(sea_inphinity.get_list_genes(['Vix-DRAFT_gp11'], True))"
   ]
  },
  {
   "cell_type": "code",
   "execution_count": null,
   "metadata": {
    "collapsed": false
   },
   "outputs": [],
   "source": [
    "sea_inphinity.print_informations_on_phage('Vix-DRAFT_gp11')"
   ]
  },
  {
   "cell_type": "code",
   "execution_count": null,
   "metadata": {
    "collapsed": false
   },
   "outputs": [],
   "source": [
    "sea_inphinity.print_informations_on_phages(['Vix-DRAFT_gp11', 'Microwolf-DRAFT_gp14', '205870_14'])"
   ]
  },
  {
   "cell_type": "code",
   "execution_count": null,
   "metadata": {
    "collapsed": false
   },
   "outputs": [],
   "source": [
    "sea_inphinity.print_informations_on_phages(['663557_12', 'Backyardigan-DRAFT_gp12', 'Wile-DRAFT_gp11'])"
   ]
  },
  {
   "cell_type": "code",
   "execution_count": null,
   "metadata": {
    "collapsed": false
   },
   "outputs": [],
   "source": [
    "sea_inphinity.print_informations_on_phages(sea_inphinity.leaves)"
   ]
  },
  {
   "cell_type": "code",
   "execution_count": null,
   "metadata": {
    "collapsed": false
   },
   "outputs": [],
   "source": [
    "print(sea_inphinity.get_list_name_pham(-1))"
   ]
  },
  {
   "cell_type": "code",
   "execution_count": null,
   "metadata": {
    "collapsed": false
   },
   "outputs": [],
   "source": [
    "sea_inphinity.verbose = False\n",
    "sea_inphinity.build_tree('1639')\n",
    "sea_inphinity.print_informations_on_phages(sea_inphinity.leaves)"
   ]
  },
  {
   "cell_type": "code",
   "execution_count": null,
   "metadata": {
    "collapsed": false
   },
   "outputs": [],
   "source": []
  },
  {
   "cell_type": "code",
   "execution_count": null,
   "metadata": {
    "collapsed": true
   },
   "outputs": [],
   "source": []
  }
 ],
 "metadata": {
  "kernelspec": {
   "display_name": "Python 3",
   "language": "python",
   "name": "python3"
  },
  "language_info": {
   "codemirror_mode": {
    "name": "ipython",
    "version": 3
   },
   "file_extension": ".py",
   "mimetype": "text/x-python",
   "name": "python",
   "nbconvert_exporter": "python",
   "pygments_lexer": "ipython3",
   "version": "3.5.1"
  }
 },
 "nbformat": 4,
 "nbformat_minor": 0
}
