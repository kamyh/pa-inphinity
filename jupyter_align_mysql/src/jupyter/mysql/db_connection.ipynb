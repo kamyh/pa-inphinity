{
 "cells": [
  {
   "cell_type": "code",
   "execution_count": 1,
   "metadata": {
    "collapsed": false
   },
   "outputs": [],
   "source": [
    "import pymysql.cursors"
   ]
  },
  {
   "cell_type": "code",
   "execution_count": 80,
   "metadata": {
    "collapsed": false
   },
   "outputs": [],
   "source": [
    "class sea_inphinity():\n",
    "    def __init__(self, db_name):\n",
    "        self.db_name = db_name\n",
    "        self.connection()\n",
    "        \n",
    "    def connection(self):\n",
    "        # Connect to the database\n",
    "        self.connection = pymysql.connect(host='localhost',\n",
    "                                     user='root',\n",
    "                                     password='',\n",
    "                                     db=self.db_name,\n",
    "                                     charset='utf8mb4',\n",
    "                                     cursorclass=pymysql.cursors.DictCursor)\n",
    "        \n",
    "    def simple_execute(self, sql, verbose):\n",
    "        try:\n",
    "            with self.connection.cursor() as cursor:\n",
    "                res = cursor.execute(sql)\n",
    "\n",
    "                if verbose:\n",
    "                    print(res)\n",
    "\n",
    "            self.connection.commit()\n",
    "        finally:\n",
    "            pass\n",
    "        \n",
    "    def get_pham(self):\n",
    "        cur = self.connection.cursor()\n",
    "\n",
    "        cur.execute(\"SELECT * FROM pham\")\n",
    "\n",
    "        for row in cur:\n",
    "            print(row)\n",
    "\n",
    "        return cur\n",
    "    \n",
    "    def get_specific_pham(self, name, verbose):\n",
    "        cur = self.connection.cursor()\n",
    "\n",
    "        cur.execute(\"SELECT GeneID FROM pham WHERE name = %s\", (name))\n",
    "\n",
    "        if verbose:\n",
    "            for row in cur:\n",
    "                print(row)\n",
    "\n",
    "        return cur\n",
    "    \n",
    "    def get_list_genes(self, gene_ids):\n",
    "        cur = self.connection.cursor()\n",
    "        \n",
    "        sql = \"SELECT * FROM gene WHERE GeneID IN ('%s');\" % ( \"','\".join(gene_ids))\n",
    "        print(sql)\n",
    "        cur.execute(sql)\n",
    "\n",
    "        for row in cur:\n",
    "            print(row)\n",
    "\n",
    "        return cur"
   ]
  },
  {
   "cell_type": "code",
   "execution_count": 81,
   "metadata": {
    "collapsed": false
   },
   "outputs": [
    {
     "name": "stdout",
     "output_type": "stream",
     "text": [
      "12482\n"
     ]
    }
   ],
   "source": [
    "sea_inphinity = sea_inphinity('sea')\n",
    "sea_inphinity.simple_execute('SELECT * FROM pham', True)"
   ]
  },
  {
   "cell_type": "code",
   "execution_count": null,
   "metadata": {
    "collapsed": false
   },
   "outputs": [],
   "source": [
    "phamilies = sea_inphinity.get_pham()"
   ]
  },
  {
   "cell_type": "code",
   "execution_count": 82,
   "metadata": {
    "collapsed": false
   },
   "outputs": [
    {
     "name": "stdout",
     "output_type": "stream",
     "text": [
      "['148603_20', '148603_21', '205870_24', '205870_25', '260120_gp21', '260120_gp22', '260121_gp21', '260121_gp22', '28369_24', '28369_25', '31757_gene24', '31757_gene25', '373405_26', '373405_27', '540064_23', '540064_24', '540065_23', '540065_24', '540066_KBG_23', '540066_KBG_24', '540067_22', '540067_23', '540068_26', '540068_27', '555603_22', '555603_23', '663557_23', '663557_24', '701456_24', '701456_25', '711470_27', '711470_28', 'Backyardigan-DRAFT_gp23', 'Doom-DRAFT_gp25', 'Doom-DRAFT_gp26', 'George-DRAFT_gp19', 'George-DRAFT_gp20', 'JHC117-DRAFT_gp25', 'JHC117-DRAFT_gp26', 'Microwolf-DRAFT_gp25', 'Microwolf-DRAFT_gp26', 'SargentShorty9-DRAFT_gp22', 'SargentShorty9-DRAFT_gp23', 'Trixie-DRAFT_gp28', 'Trixie-DRAFT_gp29', 'Turbido-DRAFT_gp25', 'Turbido-DRAFT_gp26', 'Vix-DRAFT_gp22', 'Vix-DRAFT_gp23', 'Wile-DRAFT_gp22']\n",
      "SELECT * FROM gene WHERE GeneID IN ('148603_20','148603_21','205870_24','205870_25','260120_gp21','260120_gp22','260121_gp21','260121_gp22','28369_24','28369_25','31757_gene24','31757_gene25','373405_26','373405_27','540064_23','540064_24','540065_23','540065_24','540066_KBG_23','540066_KBG_24','540067_22','540067_23','540068_26','540068_27','555603_22','555603_23','663557_23','663557_24','701456_24','701456_25','711470_27','711470_28','Backyardigan-DRAFT_gp23','Doom-DRAFT_gp25','Doom-DRAFT_gp26','George-DRAFT_gp19','George-DRAFT_gp20','JHC117-DRAFT_gp25','JHC117-DRAFT_gp26','Microwolf-DRAFT_gp25','Microwolf-DRAFT_gp26','SargentShorty9-DRAFT_gp22','SargentShorty9-DRAFT_gp23','Trixie-DRAFT_gp28','Trixie-DRAFT_gp29','Turbido-DRAFT_gp25','Turbido-DRAFT_gp26','Vix-DRAFT_gp22','Vix-DRAFT_gp23','Wile-DRAFT_gp22');\n",
      "{'LeftNeighbor': None, 'GC3': None, 'GC': None, 'GC1': None, 'PhageID': '148603', 'translation': 'MSKILTLDTIREEADREYGAPVQVQISKDTTVSLKNVMRLRKDVRKDILTQLEAIRTINDKAGGDKTEADAEKLADAVFKILELAAGRASETLMDAVDEDVALATKILNYWLEETQVGEASSSED', 'blast_status': 'done', 'Start': 15620, 'Length': 378, 'GC2': None, 'StopCodon': 'TGA', 'id': 13, 'Notes': b'related to D29 gp24 (32%); 13.8 kD hypothetical protein', 'TypeID': 'CDS', 'GeneID': '148603_20', 'StartCodon': 'ATG', 'clustalw_status': 'done', 'Name': '20', 'Stop': 15998, 'RightNeighbor': None, 'Orientation': 'F'}\n",
      "{'LeftNeighbor': None, 'GC3': None, 'GC': None, 'GC1': None, 'PhageID': '148603', 'translation': 'MSKILTLDTIREEADREYGAPVQVQISKDTTVSLKNVMRLRKDVRKDILTQLEAIRTINDKAGGDKTEADAEKLADAVFKILELAAGRASETLMDAVDEDVALATKILNYWLEETQVGGSLQLGGLIDDYGDALYADFRAEYHMNLADLFDPASRLGPIQVLALIKELPREGRFWSEKQGGPQFRGWDDQTYTTAALVNEIRALKFMYLLANTSKDKRRRLTPPEPFPVPRVKPHKAKKYKPGSFGAVAAMRMAASRNRKARTTGG', 'blast_status': 'done', 'Start': 15620, 'Length': 800, 'GC2': None, 'StopCodon': 'TAG', 'id': 14, 'Notes': b'related to L5 gp25 (32%); 16.6 kD hypothetical protein; ribosomal slippage', 'TypeID': 'CDS', 'GeneID': '148603_21', 'StartCodon': 'ATG', 'clustalw_status': 'done', 'Name': '21', 'Stop': 16420, 'RightNeighbor': None, 'Orientation': 'F'}\n",
      "{'LeftNeighbor': None, 'GC3': None, 'GC': None, 'GC1': None, 'PhageID': '205870', 'translation': 'MSNVFTLDSFREEADREFAPVKLELGGDDAVVLRNVLRIQKTRREEVFQLLEKLDSIAKDDEGKQREEDDLDASEMEAMGDIALRMIELVADNDALGSRLVDELRDDLALTLKVFEAWMNATQPGEAERSPA', 'blast_status': 'done', 'Start': 15276, 'Length': 399, 'GC2': None, 'StopCodon': 'TGA', 'id': 357, 'Notes': None, 'TypeID': 'CDS', 'GeneID': '205870_24', 'StartCodon': 'ATG', 'clustalw_status': 'done', 'Name': '24', 'Stop': 15675, 'RightNeighbor': None, 'Orientation': 'F'}\n",
      "{'LeftNeighbor': None, 'GC3': None, 'GC': None, 'GC1': None, 'PhageID': '205870', 'translation': 'MDERDPAGGSRALARLIDEYGDCLVADLWETYGVDLRDIYLPESRLSPKLALVLIKELPVGSRFYAEKRGGKQFRGWDESRYALVAIVNAVRALQYTYVAAHSKSKPKPPDPFPTPQRTKARQIRKAGSFAWMAAKQIAAARKRKAQT', 'blast_status': 'done', 'Start': 15626, 'Length': 447, 'GC2': None, 'StopCodon': 'TAA', 'id': 358, 'Notes': None, 'TypeID': 'CDS', 'GeneID': '205870_25', 'StartCodon': 'GTG', 'clustalw_status': 'done', 'Name': '25', 'Stop': 16073, 'RightNeighbor': None, 'Orientation': 'F'}\n",
      "{'LeftNeighbor': None, 'GC3': None, 'GC': None, 'GC1': None, 'PhageID': '260120', 'translation': 'MSKILTLDTIREEADREYGAPVQVQISKDTTVSLKNVMRLRKDARKDILTQLEAIRTINDKADGDKTEADAEKLADAVFKILELTAGRDSETLMDAVDEDVALATKILNYWLEETQAGEASSSED', 'blast_status': 'done', 'Start': 15698, 'Length': 378, 'GC2': None, 'StopCodon': 'TGA', 'id': 1518, 'Notes': None, 'TypeID': 'CDS', 'GeneID': '260120_gp21', 'StartCodon': 'ATG', 'clustalw_status': 'done', 'Name': 'gp21', 'Stop': 16076, 'RightNeighbor': None, 'Orientation': 'F'}\n",
      "{'LeftNeighbor': None, 'GC3': None, 'GC': None, 'GC1': None, 'PhageID': '260120', 'translation': 'MNLADLFDPASRLGPIQVLALIKELPREGRFWSEKQGGPQFRGWTDQTYTTAALVNEIRALKFMYLLANTSKDKRRRLTPPEPFPVPQVKPHKAKKYKPGSFGAVAAMRMAASRNRKAQATGG', 'blast_status': 'done', 'Start': 16126, 'Length': 372, 'GC2': None, 'StopCodon': 'TAA', 'id': 1519, 'Notes': None, 'TypeID': 'CDS', 'GeneID': '260120_gp22', 'StartCodon': 'ATG', 'clustalw_status': 'done', 'Name': 'gp22', 'Stop': 16498, 'RightNeighbor': None, 'Orientation': 'F'}\n",
      "{'LeftNeighbor': None, 'GC3': None, 'GC': None, 'GC1': None, 'PhageID': '260121', 'translation': 'MNLTRNPCQTGERYLWRAAAPPTPLFARRQSKGLPPMSKILTLDTIREEADREYGAPVQVQISKDTTVSLKNVMRLRKDVRKDILTQLEAIRTINDKADGDKTEADAEKLTDAVFKILELAAGRDSETLMDAVDEDVALATKILNYWLEETQVGEASSSED', 'blast_status': 'done', 'Start': 16706, 'Length': 486, 'GC2': None, 'StopCodon': 'TGA', 'id': 1599, 'Notes': None, 'TypeID': 'CDS', 'GeneID': '260121_gp21', 'StartCodon': 'TTG', 'clustalw_status': 'done', 'Name': 'gp21', 'Stop': 17192, 'RightNeighbor': None, 'Orientation': 'F'}\n",
      "{'LeftNeighbor': None, 'GC3': None, 'GC': None, 'GC1': None, 'PhageID': '260121', 'translation': 'MYADFRAEYHMNLADLFDPASRLGPIQVLALIKELPREGRFWSEKQGGPQFRGWDDQTYTTAALVNEIRALKFMYLLANTSKDKRRRLTPPEPFPVPQVKAHKAKKYKPGSFGAVAAMRMAASRNRKAQATGR', 'blast_status': 'done', 'Start': 17212, 'Length': 402, 'GC2': None, 'StopCodon': 'TAG', 'id': 1600, 'Notes': None, 'TypeID': 'CDS', 'GeneID': '260121_gp22', 'StartCodon': 'TTG', 'clustalw_status': 'done', 'Name': 'gp22', 'Stop': 17614, 'RightNeighbor': None, 'Orientation': 'F'}\n",
      "{'LeftNeighbor': None, 'GC3': None, 'GC': None, 'GC1': None, 'PhageID': '28369', 'translation': 'MTNVFTIDAFREEVKKKYEPVTIGISEDVTVELKPLLKLGQKAREAVVEAVKEVEDIPDIDEDDEEAEELVDEYSLRICEIVAKVFRLIATKPKKLIAALDEEEDPRIRAELYATVLRTWMVETQLGEAAPSPS', 'blast_status': 'done', 'Start': 15703, 'Length': 405, 'GC2': None, 'StopCodon': 'TGA', 'id': 1689, 'Notes': b'predicted 15.2 kD protein', 'TypeID': 'CDS', 'GeneID': '28369_24', 'StartCodon': 'ATG', 'clustalw_status': 'done', 'Name': '24', 'Stop': 16108, 'RightNeighbor': None, 'Orientation': 'F'}\n",
      "{'LeftNeighbor': None, 'GC3': None, 'GC': None, 'GC1': None, 'PhageID': '28369', 'translation': 'MIHLPKTGAFYAERRGGQQYRGWDEDRYALADIYDAVQAGNHILLMANRDPKKPKPKAPKAYPRPDDFEKTTPKPGSFAAMVVAAKKAAREKREREEANAE', 'blast_status': 'done', 'Start': 16221, 'Length': 306, 'GC2': None, 'StopCodon': 'TAG', 'id': 1690, 'Notes': b'predicted 11.4 kD protein; may be synthesized along with gp24 via a programmed translational frameshift', 'TypeID': 'CDS', 'GeneID': '28369_25', 'StartCodon': 'GTG', 'clustalw_status': 'done', 'Name': '25', 'Stop': 16527, 'RightNeighbor': None, 'Orientation': 'F'}\n",
      "{'LeftNeighbor': None, 'GC3': None, 'GC': None, 'GC1': None, 'PhageID': '31757', 'translation': 'MTNVFTIDAFREEVKKKYAPVLIGLSDDVTVELKPLLKLGQKAREAVVEVFKEFADIPDLEEDDDDELVDEYSLQVCDIIAKAFRLIATKPKKLIAALDEEPDPRIRAELYAAVLNTWKRETQLGEAAPSPS', 'blast_status': 'done', 'Start': 14986, 'Length': 399, 'GC2': None, 'StopCodon': 'TGA', 'id': 1765, 'Notes': b'predicted 14.8Kd protein', 'TypeID': 'CDS', 'GeneID': '31757_gene24', 'StartCodon': 'ATG', 'clustalw_status': 'done', 'Name': 'gene24', 'Stop': 15385, 'RightNeighbor': None, 'Orientation': 'F'}\n",
      "{'LeftNeighbor': None, 'GC3': None, 'GC': None, 'GC1': None, 'PhageID': '31757', 'translation': 'MLCLPKDGAFYAERRGGQQYRGWTEDRYALADIYDAIQAGNHILLLANRDPKKPKPKAPKSYPRPDDLEKTTPKPGSFAAMVVRAKKAARERREREEESAE', 'blast_status': 'done', 'Start': 15498, 'Length': 306, 'GC2': None, 'StopCodon': 'TAG', 'id': 1766, 'Notes': b'predicted 11.5Kd protein', 'TypeID': 'CDS', 'GeneID': '31757_gene25', 'StartCodon': 'GTG', 'clustalw_status': 'done', 'Name': 'gene25', 'Stop': 15804, 'RightNeighbor': None, 'Orientation': 'F'}\n",
      "{'LeftNeighbor': None, 'GC3': None, 'GC': None, 'GC1': None, 'PhageID': '373405', 'translation': 'MTNVFTLDALRAETKKRYEPVRIGLSDDVIVEMKPLIKLGKKSREAVVDAFKEFEDIPEIDEDDDESDELVDEYSLRVCEIIAKAFRLIATKPKKLIAALDEEPDPRIRAELYAAVLNTWKRETQLGEAASSPS', 'blast_status': 'done', 'Start': 14707, 'Length': 405, 'GC2': None, 'StopCodon': 'TGA', 'id': 2214, 'Notes': None, 'TypeID': 'CDS', 'GeneID': '373405_26', 'StartCodon': 'ATG', 'clustalw_status': 'done', 'Name': '26', 'Stop': 15112, 'RightNeighbor': None, 'Orientation': 'F'}\n",
      "{'LeftNeighbor': None, 'GC3': None, 'GC': None, 'GC1': None, 'PhageID': '373405', 'translation': 'MFRDEDPLSPRFVLALVLCLPKDGAFYASRRGGQQYRGWDEDRYALADIYDAVQANTHMFLLANRDPKKPKPKEPKAYPRPDDLEPHKAAHKPGSFAAMVVAAKKAARERREREEAAYG', 'blast_status': 'done', 'Start': 15177, 'Length': 360, 'GC2': None, 'StopCodon': 'TAA', 'id': 2215, 'Notes': None, 'TypeID': 'CDS', 'GeneID': '373405_27', 'StartCodon': 'TTG', 'clustalw_status': 'done', 'Name': '27', 'Stop': 15537, 'RightNeighbor': None, 'Orientation': 'F'}\n",
      "{'LeftNeighbor': None, 'GC3': None, 'GC': None, 'GC1': None, 'PhageID': '540064', 'translation': 'MSNGEPPAHLGGPWAAPHLPLYLARHQSKGLPPMSTILNLDNIREEADREFGAPVPIQIDKDTVVHLRNATRLRKDVRKDVLKQLDIIKAVNDKSSDDTTEADVDKLTNAVFKILSLAAGRDSKTLLDAIDEDVAVATKILNHWLEETQVGEASSSED', 'blast_status': 'done', 'Start': 16147, 'Length': 477, 'GC2': None, 'StopCodon': 'TGA', 'id': 4332, 'Notes': b'tail scaffold protein', 'TypeID': 'CDS', 'GeneID': '540064_23', 'StartCodon': 'GTG', 'clustalw_status': 'done', 'Name': '23', 'Stop': 16624, 'RightNeighbor': None, 'Orientation': 'F'}\n",
      "{'LeftNeighbor': None, 'GC3': None, 'GC': None, 'GC1': None, 'PhageID': '540064', 'translation': 'MSNGEPPAHLGGPWAAPHLPLYLARHQSKGLPPMSTILNLDNIREEADREFGAPVPIQIDKDTVVHLRNATRLRKDVRKDVLKQLDIIKAVNDKSSDDTTEADVDKLTNAVFKILSLAAGRDSKTLLDAIDEDVAVATKILNHWLEETQVGGSLQLGGLIDDYGDALYADFRSHYHMNLADLFDPTSRLGPIQVLALIKELPREGRFWSEKQGGPQFRGWTDQTYTTAALVNEIRALKFMYLLANTSKDKRRRLTPPEPFPVPQVKAHKAKKYKPGSFGAVAAMRMAASRNRKAQATGR', 'blast_status': 'done', 'Start': 16147, 'Length': 899, 'GC2': None, 'StopCodon': 'TAG', 'id': 4331, 'Notes': b'tail scaffold protein; +1 programmed frameshift', 'TypeID': 'CDS', 'GeneID': '540064_24', 'StartCodon': 'GTG', 'clustalw_status': 'done', 'Name': '24', 'Stop': 17046, 'RightNeighbor': None, 'Orientation': 'F'}\n",
      "{'LeftNeighbor': None, 'GC3': None, 'GC': None, 'GC1': None, 'PhageID': '540065', 'translation': 'MSTILNLDNIREEADREFGAPVPIQIDKDTVVHLRNATRLRKDVRKDVLKQLDIIKAVNDKSSDDTTEADVDKLTNAVFKILSLAAGRDSKTLLDAIDEDVAVATKILNHWLEETQVGEASSSED', 'blast_status': 'done', 'Start': 15391, 'Length': 378, 'GC2': None, 'StopCodon': 'TGA', 'id': 4419, 'Notes': b'tail scaffold protein', 'TypeID': 'CDS', 'GeneID': '540065_23', 'StartCodon': 'ATG', 'clustalw_status': 'done', 'Name': '23', 'Stop': 15769, 'RightNeighbor': None, 'Orientation': 'F'}\n",
      "{'LeftNeighbor': None, 'GC3': None, 'GC': None, 'GC1': None, 'PhageID': '540065', 'translation': 'MSTILNLDNIREEADREFGAPVPIQIDKDTVVHLRNATRLRKDVRKDVLKQLDIIKAVNDKSSDDTTEADVDKLTNAVFKILSLAAGRDSKTLLDAIDEDVAVATKILNHWLEETQVGGSLQLGGLIDDYGDALYADFRSHYHMNLADLFDPTSRLGPIQVLALIKELPREGRFWSEKQGGPQFRGWTDQTYTTAALVNEIRALKFMYLLANTSKDKRRRLTPPEPFPVPQVKAHKAKKYKPGSFGAVAAMRMAASRNRKAQATGR', 'blast_status': 'done', 'Start': 15391, 'Length': 800, 'GC2': None, 'StopCodon': 'TAG', 'id': 4418, 'Notes': b'tail scaffold protein; +1 programmed frameshift', 'TypeID': 'CDS', 'GeneID': '540065_24', 'StartCodon': 'ATG', 'clustalw_status': 'done', 'Name': '24', 'Stop': 16191, 'RightNeighbor': None, 'Orientation': 'F'}\n",
      "{'LeftNeighbor': None, 'GC3': None, 'GC': None, 'GC1': None, 'PhageID': '540066', 'translation': 'MTRNPCQTGERYLWRAAAPPTPLFARRQPKGLPPMSKILTLDTIREEADREYGAPVQVQISKDTTVSLKNVMRLRKDARKDILTQLEAIRTINDKADGDKTEADAEKLADAVFKILELAAGRDSETLMDAVDEDVALATKILNYWLEETQAGEASSSED', 'blast_status': 'done', 'Start': 16351, 'Length': 480, 'GC2': None, 'StopCodon': 'TGA', 'id': 4243, 'Notes': b'tail scaffold protein', 'TypeID': 'CDS', 'GeneID': '540066_KBG_23', 'StartCodon': 'TTG', 'clustalw_status': 'done', 'Name': 'KBG_23', 'Stop': 16831, 'RightNeighbor': None, 'Orientation': 'F'}\n",
      "{'LeftNeighbor': None, 'GC3': None, 'GC': None, 'GC1': None, 'PhageID': '540066', 'translation': 'MTRNPCQTGERYLWRAAAPPTPLFARRQPKGLPPMSKILTLDTIREEADREYGAPVQVQISKDTTVSLKNVMRLRKDARKDILTQLEAIRTINDKADGDKTEADAEKLADAVFKILELAAGRDSETLMDAVDEDVALATKILNYWLEETQAGGSLQLGGLIDDYGDALYADFRSEYQMNLADLFDPASRLGPIQVLALIKELPREGRFWSEKQGGPQFRGWTDQTYTTAALVNEIRALKFMYLLANTPKDKRRRLTPPEPFPVPQVKAHKAKKYKPGSFGAVAAMRMAASRNRKAQATGR', 'blast_status': 'done', 'Start': 16351, 'Length': 902, 'GC2': None, 'StopCodon': 'TAG', 'id': 4242, 'Notes': b'tail scaffold protein; +1 programmed frameshift', 'TypeID': 'CDS', 'GeneID': '540066_KBG_24', 'StartCodon': 'TTG', 'clustalw_status': 'done', 'Name': 'KBG_24', 'Stop': 17253, 'RightNeighbor': None, 'Orientation': 'F'}\n",
      "{'LeftNeighbor': None, 'GC3': None, 'GC': None, 'GC1': None, 'PhageID': '540067', 'translation': 'MSNGEPPAHLGGPWAAPHLPLYLARHQSKGLPPMSTILNLDNIREEADREFGAPVPIQIDKDTVVHLRNATRLRKDVRKDVLKQLDIIKAVNDKSSDDTTEADVDKLTNAAFKILSLAAGRDSKTLLDAIDEDVAVATKILNHWLEETQVGEASSSED', 'blast_status': 'done', 'Start': 15380, 'Length': 477, 'GC2': None, 'StopCodon': 'TGA', 'id': 4600, 'Notes': b'tail scaffold protein', 'TypeID': 'CDS', 'GeneID': '540067_22', 'StartCodon': 'GTG', 'clustalw_status': 'done', 'Name': '22', 'Stop': 15857, 'RightNeighbor': None, 'Orientation': 'F'}\n",
      "{'LeftNeighbor': None, 'GC3': None, 'GC': None, 'GC1': None, 'PhageID': '540067', 'translation': 'MSNGEPPAHLGGPWAAPHLPLYLARHQSKGLPPMSTILNLDNIREEADREFGAPVPIQIDKDTVVHLRNATRLRKDVRKDVLKQLDIIKAVNDKSSDDTTEADVDKLTNAAFKILSLAAGRDSKTLLDAIDEDVAVATKILNHWLEETQVGGSLQLGGLIDDYGDALYADFRSHYHMNLADLFDPTSRLGPIQVLALIKELPREGRFWSEKQGGPQFRGWTDQTYTTAALVNEIRALKFMYLLANTSKDKRRRLTPPEPFPVPQVKAHKAKKYKPGSFGAVAAMRMAASRNRKAQATGR', 'blast_status': 'done', 'Start': 15380, 'Length': 899, 'GC2': None, 'StopCodon': 'TAG', 'id': 4599, 'Notes': b'tail scaffold protein; +1 programmed frameshift', 'TypeID': 'CDS', 'GeneID': '540067_23', 'StartCodon': 'GTG', 'clustalw_status': 'done', 'Name': '23', 'Stop': 16279, 'RightNeighbor': None, 'Orientation': 'F'}\n",
      "{'LeftNeighbor': None, 'GC3': None, 'GC': None, 'GC1': None, 'PhageID': '540068', 'translation': 'MSNVFTLDSLREETLRRYAPTKIELSDGSQVELKSVLKLKKKAREAVQEALKEIDNLDELAGDEDDEESDAELAEIVCEAIAKIIRLICTTPRKLLAELEHEDPQIQANLYTAVLTKWIGETQLGEAESSPA', 'blast_status': 'done', 'Start': 17452, 'Length': 399, 'GC2': None, 'StopCodon': 'TGA', 'id': 4515, 'Notes': b'tail assembly protein', 'TypeID': 'CDS', 'GeneID': '540068_26', 'StartCodon': 'ATG', 'clustalw_status': 'done', 'Name': '26', 'Stop': 17851, 'RightNeighbor': None, 'Orientation': 'F'}\n",
      "{'LeftNeighbor': None, 'GC3': None, 'GC': None, 'GC1': None, 'PhageID': '540068', 'translation': 'MSNVFTLDSLREETLRRYAPTKIELSDGSQVELKSVLKLKKKAREAVQEALKEIDNLDELAGDEDDEESDAELAEIVCEAIAKIIRLICTTPRKLLAELEHEDPQIQANLYTAVLTKWIGETQLGGSRVLASLIDKHGEAILSDLLHHYQVDLRELFSEVAPLSPRYVLSLIMHLPTDGAFYASRRGGVQFRGWDADRYALVAAVNALRANNHILMMVNRDPAKPKPKAPDPFPTPDDNKKPTAPKPGSFAAMVVAAKKAAREKREANG', 'blast_status': 'done', 'Start': 17452, 'Length': 809, 'GC2': None, 'StopCodon': 'TAG', 'id': 4514, 'Notes': b'tail scaffold protein; +1 programmed frameshift', 'TypeID': 'CDS', 'GeneID': '540068_27', 'StartCodon': 'ATG', 'clustalw_status': 'done', 'Name': '27', 'Stop': 18261, 'RightNeighbor': None, 'Orientation': 'F'}\n",
      "{'LeftNeighbor': None, 'GC3': None, 'GC': None, 'GC1': None, 'PhageID': '555603', 'translation': 'MSKILTLDTIREEADREYGAPVQVQISKDTTVSLKNVMRLRKDVRKDILTQLEAIRTINDKADGDKTEADAEKLTDAVFKILELAAGRDSETLMDAVDEDVALATKILNYWLEETQVGEASSSED', 'blast_status': 'done', 'Start': 16147, 'Length': 378, 'GC2': None, 'StopCodon': 'TGA', 'id': 5441, 'Notes': b'tail scaffold', 'TypeID': 'CDS', 'GeneID': '555603_22', 'StartCodon': 'ATG', 'clustalw_status': 'done', 'Name': '22', 'Stop': 16525, 'RightNeighbor': None, 'Orientation': 'F'}\n",
      "{'LeftNeighbor': None, 'GC3': None, 'GC': None, 'GC1': None, 'PhageID': '555603', 'translation': 'MSKILTLDTIREEADREYGAPVQVQISKDTTVSLKNVMRLRKDVRKDILTQLEAIRTINDKADGDKTEADAEKLTDAVFKILELAAGRDSETLMDAVDEDVALATKILNYWLEETQVGGSLQLGGLIDDYGDALYADFRSHYHLNLADLFDPASRLGPIQVLALIKELPREGRFWSEKQGGPQFRGWTDQTYTTAALVNEIRALKFMYLLANTSKDKRRRLTPPEPFPVPQVKAHKAKKYKPGSFGAVAAMRMAASRNRKARTTGG', 'blast_status': 'done', 'Start': 16147, 'Length': 800, 'GC2': None, 'StopCodon': 'TAG', 'id': 5440, 'Notes': b'tail scaffold protein; programmed frameshift', 'TypeID': 'CDS', 'GeneID': '555603_23', 'StartCodon': 'ATG', 'clustalw_status': 'done', 'Name': '23', 'Stop': 16947, 'RightNeighbor': None, 'Orientation': 'F'}\n",
      "{'LeftNeighbor': None, 'GC3': None, 'GC': None, 'GC1': None, 'PhageID': '663557', 'translation': 'MSNVFTLDSLREEADKQFAPFKVRLSDGTEVVLRNLLRLNKNDRKTVLASIEALKTEDESEEGRTLDDIDRMVDTVSKILELAAGKDSRKLLKELDGDLGLLMGVLEGWLEATSPGEAQNSPA', 'blast_status': 'done', 'Start': 15096, 'Length': 372, 'GC2': None, 'StopCodon': 'TGA', 'id': 7535, 'Notes': b'tail assembly chaperone protein', 'TypeID': 'CDS', 'GeneID': '663557_23', 'StartCodon': 'ATG', 'clustalw_status': 'done', 'Name': '23', 'Stop': 15468, 'RightNeighbor': None, 'Orientation': 'F'}\n",
      "{'LeftNeighbor': None, 'GC3': None, 'GC': None, 'GC1': None, 'PhageID': '663557', 'translation': 'MSNVFTLDSLREEADKQFAPFKVRLSDGTEVVLRNLLRLNKNDRKTVLASIEALKTEDESEEGRTLDDIDRMVDTVSKILELAAGKDSRKLLKELDGDLGLLMGVLEGWLEATSPGGSAELAGLIDRYGEHLVPDLKHYYGIDLRELFSEVNPLSPQYVLIHIKHLPIESAFVAAIRGGQEFRGWNADRYALAAIINSIRAGNYMFVMANSDPRKGKPPLPSPWPVPQENKAEKKYAPNSFAGIVAAQVIAARKRKQQKKEAEWQAQEASKSAGFLSGSSQTSTGSTES', 'blast_status': 'done', 'Start': 15096, 'Length': 869, 'GC2': None, 'StopCodon': 'TAA', 'id': 7534, 'Notes': b'tail assembly chaperone protein', 'TypeID': 'CDS', 'GeneID': '663557_24', 'StartCodon': 'ATG', 'clustalw_status': 'done', 'Name': '24', 'Stop': 15965, 'RightNeighbor': None, 'Orientation': 'F'}\n",
      "{'LeftNeighbor': None, 'GC3': None, 'GC': None, 'GC1': None, 'PhageID': '701456', 'translation': 'MRVRVTGGAVSLAGRRSPQPLSLPAATYTKGPPTMSNIISLDNVREEADRKFGAPVPVQIDKDTTVYLRNAMRLKKEARKEILKQLDVIKLFNAKSDEDATEADNDKMTAAVFKILGLAAGKDSKTLLDAIDDDVAIATEVLSRWLEETQAGEASSSED', 'blast_status': 'done', 'Start': 15638, 'Length': 480, 'GC2': None, 'StopCodon': 'TGA', 'id': 8389, 'Notes': b'tail scaffold chaperone', 'TypeID': 'CDS', 'GeneID': '701456_24', 'StartCodon': 'TTG', 'clustalw_status': 'done', 'Name': '24', 'Stop': 16118, 'RightNeighbor': None, 'Orientation': 'F'}\n",
      "{'LeftNeighbor': None, 'GC3': None, 'GC': None, 'GC1': None, 'PhageID': '701456', 'translation': 'MRVRVTGGAVSLAGRRSPQPLSLPAATYTKGPPTMSNIISLDNVREEADRKFGAPVPVQIDKDTTVYLRNAMRLKKEARKEILKQLDVIKLFNAKSDEDATEADNDKMTAAVFKILGLAAGKDSKTLLDAIDDDVAIATEVLSRWLEETQAGGSLQLGGLIDDYGDAILADLRSEYNLSLKTLFDPESTLGPIEVIALIKELPRDSRFWSEKQGGPQFRGWNDHVYVTASMVNELRALKYMYLLANTPSKKRSGLKPPEPFPVPQVNPKRTKRYKPGSFGAVAAMRMAASRNRKAQSTGR', 'blast_status': 'done', 'Start': 15638, 'Length': 902, 'GC2': None, 'StopCodon': 'TAA', 'id': 8388, 'Notes': b'tail scaffold chaperone', 'TypeID': 'CDS', 'GeneID': '701456_25', 'StartCodon': 'TTG', 'clustalw_status': 'done', 'Name': '25', 'Stop': 16540, 'RightNeighbor': None, 'Orientation': 'F'}\n",
      "{'LeftNeighbor': None, 'GC3': None, 'GC': None, 'GC1': None, 'PhageID': '711470', 'translation': 'MTNVFTLDALRAETKKKYEPVLIGLSDDVTVELKPLLKLGKKSREAVVEAVKEMEDIPEIDEEDEDADELIEEYSILACEVVAKVFRLIATSPRKLIAELDAEEDPRIRAELYAAVLRTWMKETQLGEAASSPN', 'blast_status': 'done', 'Start': 17738, 'Length': 405, 'GC2': None, 'StopCodon': 'TGA', 'id': 10820, 'Notes': b'tail assembly chaperone', 'TypeID': 'CDS', 'GeneID': '711470_27', 'StartCodon': 'ATG', 'clustalw_status': 'done', 'Name': '27', 'Stop': 18143, 'RightNeighbor': None, 'Orientation': 'F'}\n",
      "{'LeftNeighbor': None, 'GC3': None, 'GC': None, 'GC1': None, 'PhageID': '711470', 'translation': 'MTNVFTLDALRAETKKKYEPVLIGLSDDVTVELKPLLKLGKKSREAVVEAVKEMEDIPEIDEEDEDADELIEEYSILACEVVAKVFRLIATSPRKLIAELDAEEDPRIRAELYAAVLRTWMKETQLGGSRVLAELIDKFGGALLADLLQYYRVDLRDLFSEEAPISPRFVLALVLCLPKDGAFYAERRGGQQYRGWDEDRYALADIYDAVQAGNHLFMIAHRDPNKAKPKAPQPYPRPDDIKSKETAPKPGSFAAMVVAAKKAARERREREEANAE', 'blast_status': 'done', 'Start': 17738, 'Length': 830, 'GC2': None, 'StopCodon': 'TAG', 'id': 10819, 'Notes': b'tail assembly chaperone', 'TypeID': 'CDS', 'GeneID': '711470_28', 'StartCodon': 'ATG', 'clustalw_status': 'done', 'Name': '28', 'Stop': 18568, 'RightNeighbor': None, 'Orientation': 'F'}\n",
      "{'LeftNeighbor': None, 'GC3': None, 'GC': None, 'GC1': None, 'PhageID': 'Backyardigan-DRAFT', 'translation': 'MSNVFTLDSLREEADKQFAPFKVQLSDGTHVVLRNLLRLNKNDRKTVLSSIEGLKTDQESDEGQTLEDLDAMVDTVSKILELAAGKDARKLLRELDGDLGLLMGVLEGWLEATSPGEAQNSPA', 'blast_status': 'done', 'Start': 15103, 'Length': 372, 'GC2': None, 'StopCodon': 'TGA', 'id': 11008, 'Notes': b'Original GeneMark call @bp 15104', 'TypeID': 'CDS', 'GeneID': 'Backyardigan-DRAFT_gp23', 'StartCodon': 'ATG', 'clustalw_status': 'done', 'Name': 'gp23', 'Stop': 15475, 'RightNeighbor': None, 'Orientation': 'F'}\n",
      "{'LeftNeighbor': None, 'GC3': None, 'GC': None, 'GC1': None, 'PhageID': 'Doom-DRAFT', 'translation': 'MSNIISLDNVREEADRKFGAPVPVQIDKDTTVYLRNAMRLKKEARKEILKQLDVIKLFNAKSDEDATEADNDKMAAAVFKILGLAAGKDSKTLLDAIDDDVAIATEVLSRWLEETQAGEASSSED', 'blast_status': 'done', 'Start': 16336, 'Length': 378, 'GC2': None, 'StopCodon': 'TGA', 'id': 9215, 'Notes': b'Original GeneMark call @bp 16337', 'TypeID': 'CDS', 'GeneID': 'Doom-DRAFT_gp25', 'StartCodon': 'ATG', 'clustalw_status': 'done', 'Name': 'gp25', 'Stop': 16714, 'RightNeighbor': None, 'Orientation': 'F'}\n",
      "{'LeftNeighbor': None, 'GC3': None, 'GC': None, 'GC1': None, 'PhageID': 'Doom-DRAFT', 'translation': 'MVNEIRALKFMYLLANTPKDKRRRLTPPEPFPVPQVKAHKAKKYKPGSFGAVAAMRMAASRNRKAQATGR', 'blast_status': 'done', 'Start': 16923, 'Length': 213, 'GC2': None, 'StopCodon': 'TAG', 'id': 9216, 'Notes': b'Original GeneMark call @bp 16924', 'TypeID': 'CDS', 'GeneID': 'Doom-DRAFT_gp26', 'StartCodon': 'ATG', 'clustalw_status': 'done', 'Name': 'gp26', 'Stop': 17136, 'RightNeighbor': None, 'Orientation': 'F'}\n",
      "{'LeftNeighbor': None, 'GC3': None, 'GC': None, 'GC1': None, 'PhageID': 'George-DRAFT', 'translation': 'MPNFTLDNFRNAAMRKYAPVTVGLSDGTEVELRGLIRLSEKDREKVVDNFTLMGEMKSTDGIDDMSDSDKQLLADAMNEILLVLAPGLDGRRLVSEIGDNVLVLGEVIDTWMTESRLGEAVSSPNS', 'blast_status': 'done', 'Start': 14445, 'Length': 381, 'GC2': None, 'StopCodon': 'TAG', 'id': 9294, 'Notes': b'Original GeneMark call @bp 14446', 'TypeID': 'CDS', 'GeneID': 'George-DRAFT_gp19', 'StartCodon': 'ATG', 'clustalw_status': 'done', 'Name': 'gp19', 'Stop': 14826, 'RightNeighbor': None, 'Orientation': 'F'}\n",
      "{'LeftNeighbor': None, 'GC3': None, 'GC': None, 'GC1': None, 'PhageID': 'George-DRAFT', 'translation': 'MDSAYSAERRGGPQFRGWTPSTFAQVATANGIRGLQYSYILTHIDKKAKRPNPPEPYPIPTRETDRSKPVTPKPGSFAGIAASMMAAARRQKAGM', 'blast_status': 'done', 'Start': 14951, 'Length': 288, 'GC2': None, 'StopCodon': 'TAG', 'id': 9295, 'Notes': b'Original GeneMark call @bp 14952', 'TypeID': 'CDS', 'GeneID': 'George-DRAFT_gp20', 'StartCodon': 'GTG', 'clustalw_status': 'done', 'Name': 'gp20', 'Stop': 15239, 'RightNeighbor': None, 'Orientation': 'F'}\n",
      "{'LeftNeighbor': None, 'GC3': None, 'GC': None, 'GC1': None, 'PhageID': 'JHC117-DRAFT', 'translation': 'MSNVFTLDSFREEADREFAPVKLELGGDDAVVLRNVLRIQKTRREEVFQLLEKLDSIAKDDEGKQREEDDLDASEMEAMGDIALRMIELVADNDALGSRLVDELRDDLALTLKVFEAWMNATQPGEAERSPA', 'blast_status': 'done', 'Start': 15180, 'Length': 399, 'GC2': None, 'StopCodon': 'TGA', 'id': 9386, 'Notes': b'Original GeneMark call @bp 15181', 'TypeID': 'CDS', 'GeneID': 'JHC117-DRAFT_gp25', 'StartCodon': 'ATG', 'clustalw_status': 'done', 'Name': 'gp25', 'Stop': 15579, 'RightNeighbor': None, 'Orientation': 'F'}\n",
      "{'LeftNeighbor': None, 'GC3': None, 'GC': None, 'GC1': None, 'PhageID': 'JHC117-DRAFT', 'translation': 'MDLRDIYLPESRLSPKLALVLIKELPVGSRFYAEKRGGKQFRGWDESRYALVAIVNAVRALQYTYVAAHSKSKPKPPDPFPTPQRTKARQIRKAGSFAWMAAKQIAAARKRKAQT', 'blast_status': 'done', 'Start': 15629, 'Length': 348, 'GC2': None, 'StopCodon': 'TAA', 'id': 9387, 'Notes': b'Original GeneMark call @bp 15630', 'TypeID': 'CDS', 'GeneID': 'JHC117-DRAFT_gp26', 'StartCodon': 'GTG', 'clustalw_status': 'done', 'Name': 'gp26', 'Stop': 15977, 'RightNeighbor': None, 'Orientation': 'F'}\n",
      "{'LeftNeighbor': None, 'GC3': None, 'GC': None, 'GC1': None, 'PhageID': 'Microwolf-DRAFT', 'translation': 'MSNVFTLDSFREEADREFAPVKLELGGDDAVVLRNVLRIQKTRREEVFQLLEKLDSIAKDDEGKQREEDDLDASEMEAMGDIALRMIELVADNDALGSRLVDELRDDLALTLKVFEAWMNATQPGEAERSPA', 'blast_status': 'done', 'Start': 15183, 'Length': 399, 'GC2': None, 'StopCodon': 'TGA', 'id': 9475, 'Notes': b'Original GeneMark call @bp 15184', 'TypeID': 'CDS', 'GeneID': 'Microwolf-DRAFT_gp25', 'StartCodon': 'ATG', 'clustalw_status': 'done', 'Name': 'gp25', 'Stop': 15582, 'RightNeighbor': None, 'Orientation': 'F'}\n",
      "{'LeftNeighbor': None, 'GC3': None, 'GC': None, 'GC1': None, 'PhageID': 'Microwolf-DRAFT', 'translation': 'MDLRDIYLPESRLSPKLALVLIKELPVGSRFYAEKRGGKQFRGWDESRYALVAIVNAVRALQYTYVAAHSKSKPKPPDPFPTPQRTKARQIRKAGSFAWMAAKQIAAARKRKAQT', 'blast_status': 'done', 'Start': 15632, 'Length': 348, 'GC2': None, 'StopCodon': 'TAA', 'id': 9476, 'Notes': b'Original GeneMark call @bp 15633', 'TypeID': 'CDS', 'GeneID': 'Microwolf-DRAFT_gp26', 'StartCodon': 'GTG', 'clustalw_status': 'done', 'Name': 'gp26', 'Stop': 15980, 'RightNeighbor': None, 'Orientation': 'F'}\n",
      "{'LeftNeighbor': None, 'GC3': None, 'GC': None, 'GC1': None, 'PhageID': 'SargentShorty9-DRAFT', 'translation': 'MSTILNLDNIREEADREFGAPVPIQLDKDTVVHLRNATRLRKDVRKDVLKQLDIIKAVNDKSSDDTTEADVDKLTNAVFKILSLAAGRDSKTLLDAIDEDVAVATKILNHWLEETQVGEASSSED', 'blast_status': 'done', 'Start': 15599, 'Length': 378, 'GC2': None, 'StopCodon': 'TGA', 'id': 12921, 'Notes': b'Original GeneMark call @bp 15600', 'TypeID': 'CDS', 'GeneID': 'SargentShorty9-DRAFT_gp22', 'StartCodon': 'ATG', 'clustalw_status': 'done', 'Name': 'gp22', 'Stop': 15977, 'RightNeighbor': None, 'Orientation': 'F'}\n",
      "{'LeftNeighbor': None, 'GC3': None, 'GC': None, 'GC1': None, 'PhageID': 'SargentShorty9-DRAFT', 'translation': 'MNLADLFDPTSRLGPIQVLALIKELPREGRFWSEKQGGPQFRGWTDQTYTTAALVNEIRALKFMYLLANTSKDKRRRLTPPEPFPVPQVKAHKAKKYKPGSFGAVAAMRMAASRNRKAQATGR', 'blast_status': 'done', 'Start': 16027, 'Length': 372, 'GC2': None, 'StopCodon': 'TAG', 'id': 12922, 'Notes': b'Original GeneMark call @bp 16028', 'TypeID': 'CDS', 'GeneID': 'SargentShorty9-DRAFT_gp23', 'StartCodon': 'ATG', 'clustalw_status': 'done', 'Name': 'gp23', 'Stop': 16399, 'RightNeighbor': None, 'Orientation': 'F'}\n",
      "{'LeftNeighbor': None, 'GC3': None, 'GC': None, 'GC1': None, 'PhageID': 'Trixie-DRAFT', 'translation': 'MSPPEGEVSLAGLPPPPARHLKPAEHERFAMTNVFTLDALREETRKKYQPVVIGLSDTVTVELKPLLKLGKKTREAVAEAVKELEDLPEIDEDDEDAEELIDEYSLLICEAVAKVFRLIATSPRKLLAELDSEEEPQIRAELYGAVLRTWMRETQLGEAAPSPN', 'blast_status': 'done', 'Start': 17327, 'Length': 495, 'GC2': None, 'StopCodon': 'TGA', 'id': 10163, 'Notes': b'', 'TypeID': 'CDS', 'GeneID': 'Trixie-DRAFT_gp28', 'StartCodon': 'ATG', 'clustalw_status': 'done', 'Name': 'gp28', 'Stop': 17822, 'RightNeighbor': None, 'Orientation': 'F'}\n",
      "{'LeftNeighbor': None, 'GC3': None, 'GC': None, 'GC1': None, 'PhageID': 'Trixie-DRAFT', 'translation': 'MLCLPRDGAFFAERRGGQQYRGWDEDRYALADIYDAIQAGNHMFMMANRDPSKPKPKAPKSYPRPDDDKTKNEAPKPGSFAAMIVAAKKAAREKREREEANAQ', 'blast_status': 'done', 'Start': 17935, 'Length': 312, 'GC2': None, 'StopCodon': 'TAG', 'id': 10164, 'Notes': b'', 'TypeID': 'CDS', 'GeneID': 'Trixie-DRAFT_gp29', 'StartCodon': 'GTG', 'clustalw_status': 'done', 'Name': 'gp29', 'Stop': 18247, 'RightNeighbor': None, 'Orientation': 'F'}\n",
      "{'LeftNeighbor': None, 'GC3': None, 'GC': None, 'GC1': None, 'PhageID': 'Turbido-DRAFT', 'translation': 'MTNVFTLDAFREDVRKKYEPVKIGLSEDVTVELKPLLKLGKKAREAVAEAVKEIEALPDEIDEDDEDADELMDEIAEKICDSVGKVFKLIATSPRKLLAELDTEEEPQIRAELYGAVLRTWMRETQLGEAAPSPN', 'blast_status': 'done', 'Start': 16493, 'Length': 408, 'GC2': None, 'StopCodon': 'TGA', 'id': 12830, 'Notes': b'Glimmer and Genemark agree. Coding Potential is', 'TypeID': 'CDS', 'GeneID': 'Turbido-DRAFT_gp25', 'StartCodon': 'ATG', 'clustalw_status': 'done', 'Name': 'gp25', 'Stop': 16901, 'RightNeighbor': None, 'Orientation': 'F'}\n",
      "{'LeftNeighbor': None, 'GC3': None, 'GC': None, 'GC1': None, 'PhageID': 'Turbido-DRAFT', 'translation': 'MFRDEAPLTPRFVLALVLCLPKDGAFYAERRGGQQYRGWDEDRHALADIYDAIQAGNHLFMMANRDPNKAKPKAPKPYPRPDDNKPKDAAPPPGSFAAMVVAAKKAARERREREEANAE', 'blast_status': 'done', 'Start': 16966, 'Length': 360, 'GC2': None, 'StopCodon': 'TAG', 'id': 12831, 'Notes': b'SDG score was 360.0 and is 4 nucleotides upstream.', 'TypeID': 'CDS', 'GeneID': 'Turbido-DRAFT_gp26', 'StartCodon': 'TTG', 'clustalw_status': 'done', 'Name': 'gp26', 'Stop': 17326, 'RightNeighbor': None, 'Orientation': 'F'}\n",
      "{'LeftNeighbor': None, 'GC3': None, 'GC': None, 'GC1': None, 'PhageID': 'Vix-DRAFT', 'translation': 'MSNVFTLDSFREEADREFAPVKLELGGDDAVVLRNVLRIQKTRREEVFQLLEKLDSIAKDDEGKQREEDDLDASEMEAMGDIALRMIELVADNDALGSRLVDELRDDLALTLKVFEAWMNATQPGEAERSPA', 'blast_status': 'done', 'Start': 15264, 'Length': 399, 'GC2': None, 'StopCodon': 'TGA', 'id': 12532, 'Notes': b'phi:0000326 - phage function unknown', 'TypeID': 'CDS', 'GeneID': 'Vix-DRAFT_gp22', 'StartCodon': 'ATG', 'clustalw_status': 'done', 'Name': 'gp22', 'Stop': 15663, 'RightNeighbor': None, 'Orientation': 'F'}\n",
      "{'LeftNeighbor': None, 'GC3': None, 'GC': None, 'GC1': None, 'PhageID': 'Vix-DRAFT', 'translation': 'MDERDPAGGSRALARLIDEYGDCLVADLWETYGVDLRDIYLPESRLSPKLALVLIKELPVGSRFYAEKRGGKQFRGWDESRYALVAIVNAVRALQYTYVAAHSKSKPKPPDPFPTPQRTKARQIRKAGSFAWMAAKQIAAARKRKAQT', 'blast_status': 'done', 'Start': 15614, 'Length': 447, 'GC2': None, 'StopCodon': 'TAA', 'id': 12533, 'Notes': b'phi:0000326 - phage function unknown', 'TypeID': 'CDS', 'GeneID': 'Vix-DRAFT_gp23', 'StartCodon': 'GTG', 'clustalw_status': 'done', 'Name': 'gp23', 'Stop': 16061, 'RightNeighbor': None, 'Orientation': 'F'}\n",
      "{'LeftNeighbor': None, 'GC3': None, 'GC': None, 'GC1': None, 'PhageID': 'Wile-DRAFT', 'translation': 'MSNVFTLDSLREEADKQFAPFKVQLSDGTHVVLRNLLRLNKNDRKTVLSSIEGLKTDQESDEGQTLEDLDAMVDTVSKILELAAGKDARKLLRELDGDLGLLMGVLEGWLEATSPGEAQNSPA', 'blast_status': 'done', 'Start': 15104, 'Length': 372, 'GC2': None, 'StopCodon': 'TGA', 'id': 10076, 'Notes': b'Original GeneMark call @bp 15105', 'TypeID': 'CDS', 'GeneID': 'Wile-DRAFT_gp22', 'StartCodon': 'ATG', 'clustalw_status': 'done', 'Name': 'gp22', 'Stop': 15476, 'RightNeighbor': None, 'Orientation': 'F'}\n"
     ]
    }
   ],
   "source": [
    "pham_2784 = sea_inphinity.get_specific_pham('2784', False)\n",
    "\n",
    "pham_2784_list = []\n",
    "for id in pham_2784:\n",
    "    pham_2784_list.append(id['GeneID'])\n",
    "print(pham_2784_list)\n",
    "genes = sea_inphinity.get_list_genes(pham_2784_list)"
   ]
  },
  {
   "cell_type": "code",
   "execution_count": null,
   "metadata": {
    "collapsed": true
   },
   "outputs": [],
   "source": []
  }
 ],
 "metadata": {
  "kernelspec": {
   "display_name": "Python 3",
   "language": "python",
   "name": "python3"
  },
  "language_info": {
   "codemirror_mode": {
    "name": "ipython",
    "version": 3
   },
   "file_extension": ".py",
   "mimetype": "text/x-python",
   "name": "python",
   "nbconvert_exporter": "python",
   "pygments_lexer": "ipython3",
   "version": "3.5.1"
  }
 },
 "nbformat": 4,
 "nbformat_minor": 0
}
