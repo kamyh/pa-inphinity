{
 "cells": [
  {
   "cell_type": "markdown",
   "metadata": {},
   "source": [
    "# Configurations and Importations"
   ]
  },
  {
   "cell_type": "code",
   "execution_count": null,
   "metadata": {
    "collapsed": false
   },
   "outputs": [],
   "source": [
    "import pymysql.cursors\n",
    "from Bio.Align.Applications import MuscleCommandline\n",
    "from Bio import AlignIO\n",
    "from Bio.Phylo.Applications import FastTreeCommandline\n",
    "from Bio import Phylo\n",
    "%matplotlib inline\n",
    "import scipy.cluster.hierarchy as cl\n",
    "import scipy.spatial.distance as ssd\n",
    "import matplotlib\n",
    "import matplotlib.pyplot as plt\n",
    "from Bio import Entrez, SeqIO\n",
    "import time\n",
    "from termcolor import colored\n",
    "from lxml import html\n",
    "import requests\n",
    "\n",
    "Entrez.email = \"vincent.deruaz@master.hes-so.ch\"\n"
   ]
  },
  {
   "cell_type": "markdown",
   "metadata": {},
   "source": [
    "# Inphinity\n",
    "## Class"
   ]
  },
  {
   "cell_type": "code",
   "execution_count": 13,
   "metadata": {
    "collapsed": false
   },
   "outputs": [
    {
     "name": "stdout",
     "output_type": "stream",
     "text": [
      "Number of phages loaded: 167\n"
     ]
    }
   ],
   "source": [
    "class Inphinity():\n",
    "    def __init__(self, db_name):\n",
    "        self.db_name = db_name\n",
    "        self.connection()\n",
    "        self.verbose = True\n",
    "        self.out_dir = './out/'\n",
    "        \n",
    "        print('Number of phages loaded: %d' % (self.number_of_phages()))\n",
    "        \n",
    "    def print_(self, string):\n",
    "        if self.verbose:\n",
    "            print(string)\n",
    "        \n",
    "    def connection(self):\n",
    "        # Connect to the database\n",
    "        self.connection = pymysql.connect(host='localhost',\n",
    "                             user='root',\n",
    "                             password='',\n",
    "                             db=self.db_name,\n",
    "                             charset='utf8mb4',\n",
    "                             cursorclass=pymysql.cursors.DictCursor)\n",
    "        \n",
    "    def number_of_phages(self):\n",
    "        cur = self.connection.cursor()\n",
    "        sql = \"SELECT count(*) FROM phage\"\n",
    "        cur.execute(sql)\n",
    "        \n",
    "        res = cur.fetchall()\n",
    "        return res[0]['count(*)']\n",
    "        \n",
    "    def simple_execute(self, sql, verbose):\n",
    "        try:\n",
    "            with self.connection.cursor() as cursor:\n",
    "                res = cursor.execute(sql)\n",
    "\n",
    "                if verbose:\n",
    "                    self.print_(res)\n",
    "                    \n",
    "                return res\n",
    "\n",
    "            self.connection.commit()\n",
    "        finally:\n",
    "            pass\n",
    "        \n",
    "    def get_list_pham(self, limit):\n",
    "        cur = self.connection.cursor()\n",
    "\n",
    "        if limit == -1:\n",
    "            sql = \"SELECT * FROM pham\"\n",
    "        else:\n",
    "            sql = \"SELECT * FROM pham LIMIT %d\" % (limit)\n",
    "        cur.execute(sql)\n",
    "\n",
    "        for row in cur:\n",
    "            self.print_(row)\n",
    "\n",
    "        return cur\n",
    "        \n",
    "    \n",
    "    def get_list_name_pham(self, limit):\n",
    "        cur = self.connection.cursor()\n",
    "\n",
    "        if limit == -1:\n",
    "            sql = \"SELECT name FROM pham GROUP BY name\"\n",
    "        else:\n",
    "            sql = \"SELECT name FROM pham GROUP BY name LIMIT %d\" \\\n",
    "            % (limit)\n",
    "        cur.execute(sql)\n",
    "        \n",
    "        list_name = []\n",
    "        for name in list(cur):\n",
    "            list_name.append(name['name'])\n",
    "\n",
    "        return list_name\n",
    "    \n",
    "    def get_specific_pham(self, name):\n",
    "        cur = self.connection.cursor()\n",
    "\n",
    "        cur.execute(\"SELECT GeneID FROM pham WHERE name = %s\", (name))\n",
    "\n",
    "        return cur\n",
    "    \n",
    "    def get_list_genes(self, gene_ids, verbose):\n",
    "        cur = self.connection.cursor()\n",
    "        \n",
    "        sql = \"SELECT * FROM gene WHERE GeneID IN ('%s');\" \\\n",
    "        % ( \"','\".join(gene_ids))\n",
    "        \n",
    "        cur.execute(sql)\n",
    "\n",
    "        if verbose:\n",
    "            for row in cur:\n",
    "                self.print_(row)\n",
    "\n",
    "        return list(cur.fetchall())\n",
    "    \n",
    "    def get_phage(self, phage_id, verbose):\n",
    "        cur = self.connection.cursor()\n",
    "        \n",
    "        sql = \"SELECT * FROM phage WHERE PhageID = '%s';\" % (phage_id)\n",
    "        \n",
    "        cur.execute(sql)\n",
    "\n",
    "        if verbose:\n",
    "            for row in cur:\n",
    "                self.print_(row)\n",
    "\n",
    "        return list(cur.fetchall())\n",
    "    \n",
    "    def get_phage_from_gene_id(self, gene_id):\n",
    "        phage = self.get_phage(self.get_list_genes([gene_id], \\\n",
    "                                   False)[0]['PhageID'], \\\n",
    "                                   False)[0]\n",
    "        return phage\n",
    "    \n",
    "    def build_tree(self,pham):\n",
    "        genes = self.get_genes_from_a_pham(pham)\n",
    "        self.create_fasta(genes)\n",
    "        self.align_muscle()\n",
    "        self.compute_tree()\n",
    "        self.prepare_tree_fig()\n",
    "    \n",
    "    def get_genes_from_a_pham(self, pham):\n",
    "        pham_list = []\n",
    "        pham = self.get_specific_pham(pham)\n",
    "        for id in pham:\n",
    "            pham_list.append(id['GeneID'])\n",
    "            self.print_(id)\n",
    "        genes = self.get_list_genes(pham_list, False)\n",
    "        \n",
    "        return genes\n",
    "        \n",
    "    def create_fasta(self, genes):\n",
    "        print('Creation of the FASTA file')\n",
    "        fasta = open(\"%sfasta.fa\" % (self.out_dir), \"w\")\n",
    "        self.print_(\"Number of Genes: %d\" % (len(genes)))\n",
    "        for gene in genes:\n",
    "            GeneID = gene['GeneID']\n",
    "            name = gene['Name']\n",
    "            description = \">%s - %s\" % (GeneID, name)\n",
    "\n",
    "            translation = gene['translation']\n",
    "\n",
    "            self.print_(description)\n",
    "            self.print_(translation)\n",
    "\n",
    "            fasta.write(description)\n",
    "            fasta.write('\\n')\n",
    "            fasta.write(translation)\n",
    "            fasta.write('\\n')\n",
    "\n",
    "        fasta.close()\n",
    "        \n",
    "    def align_muscle(self):\n",
    "        print('Alignment with MUSCLE')\n",
    "        muscle_loc = r'/home/pa/work/muscle3.8.31_i86linux64' # modifier si nécessaire\n",
    "\n",
    "        muscle_cline = MuscleCommandline(cmd=muscle_loc,input='%sfasta.fa' % (self.out_dir),out='%sout.aln' % (self.out_dir),clwstrict=True)\n",
    "        stdout, stderr = muscle_cline()\n",
    "\n",
    "        muscle_align = AlignIO.read('%sout.aln' % (self.out_dir),'clustal')\n",
    "        self.print_(muscle_align)\n",
    "        \n",
    "    def compute_tree(self):\n",
    "        print('Compute tree')\n",
    "        AlignIO.convert('%sout.aln' % (self.out_dir),'clustal','%sintermediate.phy' % (self.out_dir), 'phylip-relaxed')\n",
    "\n",
    "        cmd_fasttree = r'fasttree'\n",
    "        fasttree_cmdline = FastTreeCommandline(cmd=cmd_fasttree,fastest=True, \\\n",
    "                                               input='%sintermediate.phy' % (self.out_dir),out='%stree.tre' % (self.out_dir))\n",
    "        out_log, err_log = fasttree_cmdline()\n",
    "\n",
    "        self.print_('Out Log:')\n",
    "        self.print_(out_log)\n",
    "\n",
    "        self.print_('Error Log')\n",
    "        self.print_(err_log)\n",
    "\n",
    "        self.tree = Phylo.read('%stree.tre' % (self.out_dir), 'newick')\n",
    "        \n",
    "    def prepare_tree_fig(self):\n",
    "        print('Prepare Tree Fig')\n",
    "        self.dmat = []\n",
    "        self.leaves = [str(cladit) for k,cladit in enumerate(self.tree.get_terminals())]\n",
    "        for l1,leave1 in enumerate(self.leaves):\n",
    "            d = []\n",
    "            for l2,leave2 in enumerate(self.leaves):\n",
    "                d.append(self.tree.distance(leave1,leave2))\n",
    "            self.dmat.append(d)\n",
    "            \n",
    "    def display_scores(self):\n",
    "        print('Display Scores')\n",
    "\n",
    "        self.leaves = [str(cladit) for k,cladit in enumerate(self.tree.get_terminals())]\n",
    "        for l1,leave1 in enumerate(self.leaves):\n",
    "            for l2,leave2 in enumerate(self.leaves):\n",
    "                distance = self.tree.distance(leave1,leave2)\n",
    "                if distance > 0:\n",
    "                    print('-----------------------------')\n",
    "                    print('%s - %s' % (leave1,leave2))\n",
    "                    print(distance)\n",
    "            \n",
    "    def draw_tree(self):\n",
    "        print('Draw Tree')\n",
    "        Z = cl.linkage(ssd.squareform(self.dmat),method='average',metric='euclidean')\n",
    "        fig = plt.figure(num=None,figsize=(30,25),dpi=250)\n",
    "        dendro=cl.dendrogram(Z,labels=self.leaves,color_threshold=0.06,leaf_rotation=90,leaf_font_size=10)\n",
    "        \n",
    "        self.plt_tree = plt\n",
    "        \n",
    "        self.plt_tree.show()\n",
    "        \n",
    "    def print_informations_on_phage(self, gene_id):\n",
    "        phage = self.get_phage_from_gene_id(gene_id)\n",
    "        color = 'blue'\n",
    "        \n",
    "        source = phage['HostStrain']\n",
    "        if source == 'None':\n",
    "            color = 'red'\n",
    "            \n",
    "            if phage['Accession'] != '':\n",
    "                phage_ = phage['Accession']\n",
    "                source = self.get_host_from_genbank(phage_)\n",
    "            else:\n",
    "                color = 'yellow'\n",
    "                phage_ = phage['Name'].split('-')[0]\n",
    "                source = self.get_informations_from_phage_db(phage_)\n",
    "            \n",
    "            print(source)\n",
    "        \n",
    "        print(\"******************************** \\\n",
    "            \\nGene ID: %s \\nPhage ID: %s \\nPhage Name: %s \\nPhage Accession: %s\" \\\n",
    "            % (gene_id, phage['PhageID'], phage['Name'], phage['Accession']))\n",
    "        print(colored(\"HostStrain: %s\" % (source), color))        \n",
    "        print(\"********************************\")\n",
    "                  \n",
    "                    \n",
    "        \n",
    "    def print_informations_on_phages(self, gene_ids):\n",
    "        print('===========================')\n",
    "        print(colored('Blue: Host come from the original database', 'blue'))\n",
    "        print(colored('Red: Host come from GenBank', 'red'))\n",
    "        print(colored('Yellow: Host come from Phagedb.org', 'yellow'))\n",
    "        print('===========================')\n",
    "        \n",
    "        for gene_id in gene_ids:\n",
    "            self.print_informations_on_phage(gene_id)\n",
    "            \n",
    "    def get_host_from_genbank(self, genome_id):\n",
    "\n",
    "        try:\n",
    "            record = Entrez.efetch(db=\"nuccore\", id=genome_id, rettype=\"gb\", retmode=\"text\")\n",
    "\n",
    "            filename = 'out/genBankRecord.gb'\n",
    "            with open(filename, 'w') as f:\n",
    "                f.write(record.read())\n",
    "            parsed_gb_file = next(SeqIO.parse(filename, \"genbank\"))\n",
    "\n",
    "            #print(parsed_gb_file)\n",
    "            return parsed_gb_file.annotations[\"source\"]\n",
    "\n",
    "        except:\n",
    "            return 'Not Found'\n",
    "\n",
    "    def get_informations_from_phage_db(self, phage_name):\n",
    "        page = requests.get('http://phagesdb.org/phages/%s' % (phage_name))\n",
    "        tree = html.fromstring(page.content)\n",
    "\n",
    "        host = tree.xpath('//*[@id=\"phageDetails\"]/tbody/tr[2]/td[2]/a/em/text()')[0]\n",
    "\n",
    "        return host\n",
    "\n",
    "    \n",
    "inphinity = Inphinity('sea_own')\n"
   ]
  },
  {
   "cell_type": "markdown",
   "metadata": {},
   "source": [
    "## Listing Pham"
   ]
  },
  {
   "cell_type": "code",
   "execution_count": null,
   "metadata": {
    "collapsed": false
   },
   "outputs": [],
   "source": [
    "list_name = inphinity.get_list_name_pham(-1)\n",
    "print(list_name)"
   ]
  },
  {
   "cell_type": "markdown",
   "metadata": {},
   "source": [
    "## Testing on Pham 2799"
   ]
  },
  {
   "cell_type": "code",
   "execution_count": null,
   "metadata": {
    "collapsed": false
   },
   "outputs": [],
   "source": [
    "inphinity = Inphinity('sea')\n",
    "inphinity.verbose = False\n",
    "inphinity.build_tree('2799')\n",
    "inphinity.display_scores()\n",
    "inphinity.draw_tree()"
   ]
  },
  {
   "cell_type": "markdown",
   "metadata": {},
   "source": [
    "### Analyze"
   ]
  },
  {
   "cell_type": "code",
   "execution_count": null,
   "metadata": {
    "collapsed": false
   },
   "outputs": [],
   "source": [
    "print(inphinity.tree.get_terminals())"
   ]
  },
  {
   "cell_type": "code",
   "execution_count": null,
   "metadata": {
    "collapsed": false
   },
   "outputs": [],
   "source": [
    "print(inphinity.get_list_genes(['Vix-DRAFT_gp11'], True))"
   ]
  },
  {
   "cell_type": "code",
   "execution_count": null,
   "metadata": {
    "collapsed": false
   },
   "outputs": [],
   "source": [
    "inphinity.print_informations_on_phage('Vix-DRAFT_gp11')"
   ]
  },
  {
   "cell_type": "code",
   "execution_count": null,
   "metadata": {
    "collapsed": false
   },
   "outputs": [],
   "source": [
    "inphinity.print_informations_on_phages(inphinity.leaves)"
   ]
  },
  {
   "cell_type": "markdown",
   "metadata": {
    "collapsed": false
   },
   "source": [
    "## Checking Theory"
   ]
  },
  {
   "cell_type": "code",
   "execution_count": null,
   "metadata": {
    "collapsed": false,
    "scrolled": false
   },
   "outputs": [],
   "source": [
    "inphinity = Inphinity('sea_own')\n",
    "inphinity.verbose = False\n",
    "inphinity.build_tree('3352')\n",
    "inphinity.print_informations_on_phages(inphinity.leaves)"
   ]
  },
  {
   "cell_type": "markdown",
   "metadata": {
    "collapsed": false
   },
   "source": [
    "### Testing"
   ]
  },
  {
   "cell_type": "code",
   "execution_count": null,
   "metadata": {
    "collapsed": false,
    "scrolled": false
   },
   "outputs": [],
   "source": [
    "inphinity = Inphinity('sea')\n",
    "inphinity.verbose = False\n",
    "inphinity.build_tree('2799')\n",
    "inphinity.print_informations_on_phages(inphinity.leaves)"
   ]
  },
  {
   "cell_type": "code",
   "execution_count": null,
   "metadata": {
    "collapsed": true
   },
   "outputs": [],
   "source": []
  }
 ],
 "metadata": {
  "kernelspec": {
   "display_name": "Python 3",
   "language": "python",
   "name": "python3"
  },
  "language_info": {
   "codemirror_mode": {
    "name": "ipython",
    "version": 3
   },
   "file_extension": ".py",
   "mimetype": "text/x-python",
   "name": "python",
   "nbconvert_exporter": "python",
   "pygments_lexer": "ipython3",
   "version": "3.5.1"
  }
 },
 "nbformat": 4,
 "nbformat_minor": 0
}
