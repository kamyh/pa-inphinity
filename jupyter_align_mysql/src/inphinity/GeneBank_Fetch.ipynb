{
 "cells": [
  {
   "cell_type": "markdown",
   "metadata": {},
   "source": [
    "# Configuration"
   ]
  },
  {
   "cell_type": "code",
   "execution_count": 9,
   "metadata": {
    "collapsed": false
   },
   "outputs": [],
   "source": [
    "from Bio import Entrez, SeqIO\n",
    "import time\n",
    "from lxml import html\n",
    "import requests\n",
    "\n",
    "Entrez.email = \"vincent.deruaz@master.hes-so.ch\"\n"
   ]
  },
  {
   "cell_type": "markdown",
   "metadata": {},
   "source": [
    "# Populate db"
   ]
  },
  {
   "cell_type": "code",
   "execution_count": null,
   "metadata": {
    "collapsed": false
   },
   "outputs": [
    {
     "name": "stdout",
     "output_type": "stream",
     "text": [
      "Number Of Access Ids: 2480\n",
      "1 - Writing:generated/17052016-1224/genBankRecord_JN377895.1.gb\n",
      "2 - Writing:generated/17052016-1224/genBankRecord_JN377894.1.gb\n",
      "3 - Writing:generated/17052016-1224/genBankRecord_JX123262.1.gb\n",
      "4 - Writing:generated/17052016-1224/genBankRecord_KJ858521.1.gb\n",
      "5 - Writing:generated/17052016-1224/genBankRecord_HM452125.1.gb\n",
      "6 - Writing:generated/17052016-1224/genBankRecord_HM452126.1.gb\n",
      "7 - Writing:generated/17052016-1224/genBankRecord_JN651747.1.gb\n",
      "8 - Writing:generated/17052016-1224/genBankRecord_DQ674738.2.gb\n",
      "9 - Writing:generated/17052016-1224/genBankRecord_GU396103.1.gb\n",
      "10 - Writing:generated/17052016-1224/genBankRecord_JQ177063.1.gb\n",
      "11 - Writing:generated/17052016-1224/genBankRecord_JQ312117.1.gb\n",
      "12 - Writing:generated/17052016-1224/genBankRecord_KF005320.1.gb\n",
      "13 - Writing:generated/17052016-1224/genBankRecord_KF005318.1.gb\n",
      "14 - Writing:generated/17052016-1224/genBankRecord_KF005319.1.gb\n",
      "15 - Writing:generated/17052016-1224/genBankRecord_KF356198.1.gb\n",
      "16 - Writing:generated/17052016-1224/genBankRecord_KF692088.2.gb\n",
      "17 - Writing:generated/17052016-1224/genBankRecord_KM879463.1.gb\n",
      "18 - Writing:generated/17052016-1224/genBankRecord_KJ645900.1.gb\n",
      "19 - Writing:generated/17052016-1224/genBankRecord_CU468217.1.gb\n",
      "20 - Writing:generated/17052016-1224/genBankRecord_GU229986.1.gb\n",
      "21 - Writing:generated/17052016-1224/genBankRecord_EF583821.1.gb\n"
     ]
    }
   ],
   "source": [
    "def get_informations_from_phage_db(phage_name):\n",
    "    page = requests.get('http://phagesdb.org/phages/%s' % (phage_name))\n",
    "    tree = html.fromstring(page.content)\n",
    "        \n",
    "    host = tree.xpath('//*[@id=\"phageDetails\"]/tbody/tr/td[2]/a/em/text()')[0]\n",
    "        \n",
    "    return host\n",
    "    \n",
    "def get_list_Phage_from_ebi():\n",
    "    pass_first = 0\n",
    "    access_ids = []\n",
    "    \n",
    "    for line in open('./phages_list_1.txt','r'):\n",
    "        if pass_first < 2:\n",
    "            pass_first += 1\n",
    "            pass\n",
    "        else:\n",
    "            index_tab = line.index(\"\\t\")\n",
    "            access_ids.append(line[0:index_tab])\n",
    "            \n",
    "    return access_ids\n",
    "\n",
    "def write_gb_file(GIs):\n",
    "    counter = 0\n",
    "    sub_dir = '17052016-1224/'\n",
    "    \n",
    "    for genome_id in GIs:\n",
    "        counter += 1\n",
    "        try:\n",
    "            record = Entrez.efetch(db=\"nuccore\", id=genome_id, rettype=\"gb\", retmode=\"text\")\n",
    "\n",
    "            filename = 'generated/{}genBankRecord_{}.gb'.format(sub_dir, genome_id)\n",
    "            print('{} - Writing:{}'.format(counter, filename))\n",
    "            with open(filename, 'w') as f:\n",
    "                f.write(record.read())\n",
    "        except urllib.error.HTTPError as err:\n",
    "            print(err.code)\n",
    "\n",
    "access_ids = get_list_Phage_from_ebi()\n",
    "print('Number Of Access Ids: %d' % (len(access_ids)))\n",
    "#write_gb_file(access_ids[:10]) \n",
    "#write_gb_file(access_ids[11:20])\n",
    "#write_gb_file(access_ids[21:31])\n",
    "write_gb_file(access_ids[32:62])\n",
    "\n"
   ]
  },
  {
   "cell_type": "code",
   "execution_count": null,
   "metadata": {
    "collapsed": true
   },
   "outputs": [],
   "source": []
  }
 ],
 "metadata": {
  "kernelspec": {
   "display_name": "Python 3",
   "language": "python",
   "name": "python3"
  },
  "language_info": {
   "codemirror_mode": {
    "name": "ipython",
    "version": 3
   },
   "file_extension": ".py",
   "mimetype": "text/x-python",
   "name": "python",
   "nbconvert_exporter": "python",
   "pygments_lexer": "ipython3",
   "version": "3.5.1"
  }
 },
 "nbformat": 4,
 "nbformat_minor": 0
}
