{
 "cells": [
  {
   "cell_type": "markdown",
   "metadata": {},
   "source": [
    "# Configuration + Imports"
   ]
  },
  {
   "cell_type": "code",
   "execution_count": 1,
   "metadata": {
    "collapsed": false
   },
   "outputs": [],
   "source": [
    "from Bio import Entrez, SeqIO\n",
    "import time\n",
    "from lxml import html\n",
    "import requests\n",
    "\n",
    "Entrez.email = \"vincent.deruaz@master.hes-so.ch\"\n"
   ]
  },
  {
   "cell_type": "markdown",
   "metadata": {},
   "source": [
    "# Populate db\n",
    "## Class"
   ]
  },
  {
   "cell_type": "code",
   "execution_count": 7,
   "metadata": {
    "collapsed": false
   },
   "outputs": [],
   "source": [
    "class db_population():\n",
    "    def get_informations_from_phage_db(self, phage_name):\n",
    "        page = requests.get('http://phagesdb.org/phages/%s' % (phage_name))\n",
    "        tree = html.fromstring(page.content)\n",
    "\n",
    "        host = tree.xpath('//*[@id=\"phageDetails\"]/tbody/tr/td[2]/a/em/text()')[0]\n",
    "\n",
    "        return host\n",
    "\n",
    "    def get_list_Phage_from_ebi(self, ):\n",
    "        pass_first = 0\n",
    "        access_ids = []\n",
    "\n",
    "        for line in open('./phages_list_1.txt','r'):\n",
    "            if pass_first < 2:\n",
    "                pass_first += 1\n",
    "                pass\n",
    "            else:\n",
    "                index_tab = line.index(\"\\t\")\n",
    "                access_ids.append(line[0:index_tab])\n",
    "\n",
    "        return access_ids\n",
    "\n",
    "    def write_gb_file(self, GIs, sub_dir):\n",
    "        counter = 0\n",
    "\n",
    "        for genome_id in GIs:\n",
    "            counter += 1\n",
    "            try:\n",
    "                record = Entrez.efetch(db=\"nuccore\", id=genome_id, rettype=\"gb\", retmode=\"text\")\n",
    "\n",
    "                filename = 'generated/{}genBankRecord_{}.gb'.format(sub_dir, genome_id)\n",
    "                print('{} - Writing:{}'.format(counter, filename))\n",
    "                with open(filename, 'w') as f:\n",
    "                    f.write(record.read())\n",
    "            except urllib.error.HTTPError as err:\n",
    "                print(err.code)\n",
    "\n",
    "db_population = db_population()"
   ]
  },
  {
   "cell_type": "markdown",
   "metadata": {
    "collapsed": true
   },
   "source": [
    "## Uses"
   ]
  },
  {
   "cell_type": "code",
   "execution_count": 10,
   "metadata": {
    "collapsed": false,
    "scrolled": false
   },
   "outputs": [
    {
     "name": "stdout",
     "output_type": "stream",
     "text": [
      "Number Of Access Ids: 2480\n",
      "1 - Writing:generated/17052016-1244/genBankRecord_HE614282.1.gb\n",
      "2 - Writing:generated/17052016-1244/genBankRecord_AY616446.1.gb\n",
      "3 - Writing:generated/17052016-1244/genBankRecord_KJ451625.1.gb\n",
      "4 - Writing:generated/17052016-1244/genBankRecord_KJ081346.1.gb\n",
      "5 - Writing:generated/17052016-1244/genBankRecord_JN797797.1.gb\n",
      "6 - Writing:generated/17052016-1244/genBankRecord_JN797798.1.gb\n",
      "7 - Writing:generated/17052016-1244/genBankRecord_KF669647.1.gb\n",
      "8 - Writing:generated/17052016-1244/genBankRecord_KF669648.1.gb\n",
      "9 - Writing:generated/17052016-1244/genBankRecord_JX887877.1.gb\n",
      "10 - Writing:generated/17052016-1244/genBankRecord_KJ024807.1.gb\n",
      "11 - Writing:generated/17052016-1244/genBankRecord_KM051843.1.gb\n",
      "12 - Writing:generated/17052016-1244/genBankRecord_KJ010547.1.gb\n",
      "13 - Writing:generated/17052016-1244/genBankRecord_KJ010548.1.gb\n",
      "14 - Writing:generated/17052016-1244/genBankRecord_KC430106.1.gb\n",
      "15 - Writing:generated/17052016-1244/genBankRecord_JN654439.1.gb\n",
      "16 - Writing:generated/17052016-1244/genBankRecord_JN191664.1.gb\n",
      "17 - Writing:generated/17052016-1244/genBankRecord_KJ489397.1.gb\n",
      "18 - Writing:generated/17052016-1244/genBankRecord_KF669649.1.gb\n",
      "19 - Writing:generated/17052016-1244/genBankRecord_DQ222851.1.gb\n",
      "20 - Writing:generated/17052016-1244/genBankRecord_KF554508.2.gb\n",
      "21 - Writing:generated/17052016-1244/genBankRecord_KC330679.1.gb\n",
      "22 - Writing:generated/17052016-1244/genBankRecord_KC330680.1.gb\n",
      "23 - Writing:generated/17052016-1244/genBankRecord_KJ489398.1.gb\n",
      "24 - Writing:generated/17052016-1244/genBankRecord_DQ150593.1.gb\n",
      "25 - Writing:generated/17052016-1244/genBankRecord_KC330683.1.gb\n",
      "26 - Writing:generated/17052016-1244/genBankRecord_JN638751.1.gb\n",
      "27 - Writing:generated/17052016-1244/genBankRecord_X96987.2.gb\n",
      "28 - Writing:generated/17052016-1244/genBankRecord_DQ222853.1.gb\n",
      "29 - Writing:generated/17052016-1244/genBankRecord_DQ222855.1.gb\n",
      "30 - Writing:generated/17052016-1244/genBankRecord_DQ289556.1.gb\n",
      "31 - Writing:generated/17052016-1244/genBankRecord_AY701338.1.gb\n",
      "32 - Writing:generated/17052016-1244/genBankRecord_KF669651.1.gb\n",
      "33 - Writing:generated/17052016-1244/genBankRecord_KF669652.1.gb\n",
      "34 - Writing:generated/17052016-1244/genBankRecord_KJ489399.1.gb\n",
      "35 - Writing:generated/17052016-1244/genBankRecord_KJ489400.1.gb\n",
      "36 - Writing:generated/17052016-1244/genBankRecord_EU874396.1.gb\n",
      "37 - Writing:generated/17052016-1244/genBankRecord_KJ676859.1.gb\n",
      "38 - Writing:generated/17052016-1244/genBankRecord_KC595512.2.gb\n",
      "39 - Writing:generated/17052016-1244/genBankRecord_KM236245.1.gb\n",
      "40 - Writing:generated/17052016-1244/genBankRecord_KJ489401.1.gb\n",
      "41 - Writing:generated/17052016-1244/genBankRecord_KC685370.1.gb\n",
      "42 - Writing:generated/17052016-1244/genBankRecord_KM236246.1.gb\n",
      "43 - Writing:generated/17052016-1244/genBankRecord_KF669655.1.gb\n",
      "44 - Writing:generated/17052016-1244/genBankRecord_KF669657.1.gb\n",
      "45 - Writing:generated/17052016-1244/genBankRecord_KP411017.1.gb\n",
      "46 - Writing:generated/17052016-1244/genBankRecord_KM236247.1.gb\n",
      "47 - Writing:generated/17052016-1244/genBankRecord_JQ619704.1.gb\n",
      "48 - Writing:generated/17052016-1244/genBankRecord_EU771092.1.gb\n",
      "49 - Writing:generated/17052016-1244/genBankRecord_M11813.1.gb\n",
      "50 - Writing:generated/17052016-1244/genBankRecord_AB016282.1.gb\n",
      "51 - Writing:generated/17052016-1244/genBankRecord_HM072038.1.gb\n",
      "52 - Writing:generated/17052016-1244/genBankRecord_JX238501.3.gb\n",
      "53 - Writing:generated/17052016-1244/genBankRecord_AP013029.1.gb\n",
      "54 - Writing:generated/17052016-1244/genBankRecord_JQ062992.1.gb\n",
      "55 - Writing:generated/17052016-1244/genBankRecord_AB711120.1.gb\n",
      "56 - Writing:generated/17052016-1244/genBankRecord_KF669660.1.gb\n",
      "57 - Writing:generated/17052016-1244/genBankRecord_KM236248.1.gb\n",
      "58 - Writing:generated/17052016-1244/genBankRecord_KF669659.1.gb\n",
      "59 - Writing:generated/17052016-1244/genBankRecord_KJ489402.1.gb\n",
      "60 - Writing:generated/17052016-1244/genBankRecord_KC595513.2.gb\n",
      "61 - Writing:generated/17052016-1244/genBankRecord_KF669661.1.gb\n",
      "62 - Writing:generated/17052016-1244/genBankRecord_AF020713.1.gb\n",
      "63 - Writing:generated/17052016-1244/genBankRecord_FJ230960.1.gb\n",
      "64 - Writing:generated/17052016-1244/genBankRecord_KF669662.1.gb\n",
      "65 - Writing:generated/17052016-1244/genBankRecord_X97918.2.gb\n",
      "66 - Writing:generated/17052016-1244/genBankRecord_KP696447.1.gb\n",
      "67 - Writing:generated/17052016-1244/genBankRecord_KF669663.1.gb\n",
      "68 - Writing:generated/17052016-1244/genBankRecord_KP696448.1.gb\n",
      "69 - Writing:generated/17052016-1244/genBankRecord_KC330682.1.gb\n",
      "70 - Writing:generated/17052016-1244/genBankRecord_KF208639.2.gb\n",
      "71 - Writing:generated/17052016-1244/genBankRecord_KC481682.1.gb\n",
      "72 - Writing:generated/17052016-1244/genBankRecord_JX094431.1.gb\n",
      "73 - Writing:generated/17052016-1244/genBankRecord_HM144387.1.gb\n",
      "74 - Writing:generated/17052016-1244/genBankRecord_KJ920400.1.gb\n",
      "75 - Writing:generated/17052016-1244/genBankRecord_DQ289555.1.gb\n",
      "76 - Writing:generated/17052016-1244/genBankRecord_KF188458.1.gb\n",
      "77 - Writing:generated/17052016-1244/genBankRecord_EU794049.1.gb\n",
      "78 - Writing:generated/17052016-1244/genBankRecord_KP296791.1.gb\n",
      "79 - Writing:generated/17052016-1244/genBankRecord_KP296792.1.gb\n",
      "80 - Writing:generated/17052016-1244/genBankRecord_KP296793.1.gb\n",
      "81 - Writing:generated/17052016-1244/genBankRecord_KP296794.1.gb\n",
      "82 - Writing:generated/17052016-1244/genBankRecord_KP296795.1.gb\n",
      "83 - Writing:generated/17052016-1244/genBankRecord_KP296796.1.gb\n",
      "84 - Writing:generated/17052016-1244/genBankRecord_FJ008913.1.gb\n",
      "85 - Writing:generated/17052016-1244/genBankRecord_HE608841.1.gb\n",
      "86 - Writing:generated/17052016-1244/genBankRecord_JQ177062.1.gb\n",
      "87 - Writing:generated/17052016-1244/genBankRecord_JN900499.1.gb\n",
      "88 - Writing:generated/17052016-1244/genBankRecord_AY526909.1.gb\n",
      "89 - Writing:generated/17052016-1244/genBankRecord_AY526908.1.gb\n",
      "90 - Writing:generated/17052016-1244/genBankRecord_HM242243.1.gb\n",
      "91 - Writing:generated/17052016-1244/genBankRecord_HM144386.1.gb\n",
      "92 - Writing:generated/17052016-1244/genBankRecord_HM144385.1.gb\n",
      "93 - Writing:generated/17052016-1244/genBankRecord_KC556893.1.gb\n",
      "94 - Writing:generated/17052016-1244/genBankRecord_KC556894.1.gb\n",
      "95 - Writing:generated/17052016-1244/genBankRecord_JN939332.1.gb\n",
      "96 - Writing:generated/17052016-1244/genBankRecord_KC556895.1.gb\n",
      "97 - Writing:generated/17052016-1244/genBankRecord_KC556896.1.gb\n",
      "98 - Writing:generated/17052016-1244/genBankRecord_HG428758.1.gb\n",
      "99 - Writing:generated/17052016-1244/genBankRecord_JN939331.1.gb\n",
      "100 - Writing:generated/17052016-1244/genBankRecord_KC556897.1.gb\n"
     ]
    }
   ],
   "source": [
    "\n",
    "\n",
    "access_ids = db_population.get_list_Phage_from_ebi()\n",
    "print('Number Of Access Ids: %d' % (len(access_ids)))\n",
    "\n",
    "#db_population.write_gb_file(access_ids[:10]) \n",
    "#db_population.write_gb_file(access_ids[11:20], '17052016-1038/')\n",
    "#db_population.write_gb_file(access_ids[21:31], '17052016-1146/')\n",
    "#db_population.write_gb_file(access_ids[32:62], '17052016-1224/')\n",
    "db_population.write_gb_file(access_ids[63:163], '17052016-1244/')"
   ]
  },
  {
   "cell_type": "code",
   "execution_count": null,
   "metadata": {
    "collapsed": true
   },
   "outputs": [],
   "source": []
  }
 ],
 "metadata": {
  "kernelspec": {
   "display_name": "Python 3",
   "language": "python",
   "name": "python3"
  },
  "language_info": {
   "codemirror_mode": {
    "name": "ipython",
    "version": 3
   },
   "file_extension": ".py",
   "mimetype": "text/x-python",
   "name": "python",
   "nbconvert_exporter": "python",
   "pygments_lexer": "ipython3",
   "version": "3.5.1"
  }
 },
 "nbformat": 4,
 "nbformat_minor": 0
}
