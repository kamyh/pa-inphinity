{
 "cells": [
  {
   "cell_type": "markdown",
   "metadata": {},
   "source": [
    "# Configuration"
   ]
  },
  {
   "cell_type": "code",
   "execution_count": 1,
   "metadata": {
    "collapsed": false
   },
   "outputs": [],
   "source": [
    "from Bio import Entrez, SeqIO\n",
    "import time\n",
    "from lxml import html\n",
    "import requests\n",
    "\n",
    "Entrez.email = \"vincent.deruaz@master.hes-so.ch\"\n"
   ]
  },
  {
   "cell_type": "markdown",
   "metadata": {},
   "source": [
    "# Populate db"
   ]
  },
  {
   "cell_type": "code",
   "execution_count": 3,
   "metadata": {
    "collapsed": false
   },
   "outputs": [
    {
     "name": "stdout",
     "output_type": "stream",
     "text": [
      "Writing:generated/17052016-1146/genBankRecord_HQ186308.1.gb\n",
      "Writing:generated/17052016-1146/genBankRecord_JX560521.1.gb\n",
      "Writing:generated/17052016-1146/genBankRecord_KF669658.1.gb\n",
      "Writing:generated/17052016-1146/genBankRecord_KJ473422.1.gb\n",
      "Writing:generated/17052016-1146/genBankRecord_KJ473423.1.gb\n",
      "Writing:generated/17052016-1146/genBankRecord_KM672662.1.gb\n",
      "Writing:generated/17052016-1146/genBankRecord_KJ817802.1.gb\n",
      "Writing:generated/17052016-1146/genBankRecord_AY576796.1.gb\n",
      "Writing:generated/17052016-1146/genBankRecord_DQ529280.1.gb\n",
      "Writing:generated/17052016-1146/genBankRecord_AY962392.1.gb\n"
     ]
    }
   ],
   "source": [
    "def get_informations_from_phage_db(phage_name):\n",
    "    page = requests.get('http://phagesdb.org/phages/%s' % (phage_name))\n",
    "    tree = html.fromstring(page.content)\n",
    "        \n",
    "    host = tree.xpath('//*[@id=\"phageDetails\"]/tbody/tr/td[2]/a/em/text()')[0]\n",
    "        \n",
    "    return host\n",
    "    \n",
    "def get_list_Phage_from_ebi():\n",
    "    pass_first = 0\n",
    "    access_ids = []\n",
    "    \n",
    "    for line in open('./phages_list_1.txt','r'):\n",
    "        if pass_first < 2:\n",
    "            pass_first += 1\n",
    "            pass\n",
    "        else:\n",
    "            index_tab = line.index(\"\\t\")\n",
    "            access_ids.append(line[0:index_tab])\n",
    "            \n",
    "    return access_ids\n",
    "\n",
    "def write_gb_file(GIs):\n",
    "    sub_dir = '17052016-1146/'\n",
    "    \n",
    "    for genome_id in GIs:\n",
    "        record = Entrez.efetch(db=\"nuccore\", id=genome_id, rettype=\"gb\", retmode=\"text\")\n",
    "\n",
    "        filename = 'generated/{}genBankRecord_{}.gb'.format(sub_dir, genome_id)\n",
    "        print('Writing:{}'.format(filename))\n",
    "        with open(filename, 'w') as f:\n",
    "            f.write(record.read())\n",
    "    \n",
    "\n",
    "#write_gb_file(get_list_Phage_from_ebi()[:10]) \n",
    "#write_gb_file(get_list_Phage_from_ebi()[11:20])\n",
    "write_gb_file(get_list_Phage_from_ebi()[21:31])\n",
    "\n"
   ]
  },
  {
   "cell_type": "code",
   "execution_count": null,
   "metadata": {
    "collapsed": true
   },
   "outputs": [],
   "source": []
  }
 ],
 "metadata": {
  "kernelspec": {
   "display_name": "Python 3",
   "language": "python",
   "name": "python3"
  },
  "language_info": {
   "codemirror_mode": {
    "name": "ipython",
    "version": 3
   },
   "file_extension": ".py",
   "mimetype": "text/x-python",
   "name": "python",
   "nbconvert_exporter": "python",
   "pygments_lexer": "ipython3",
   "version": "3.5.1"
  }
 },
 "nbformat": 4,
 "nbformat_minor": 0
}
