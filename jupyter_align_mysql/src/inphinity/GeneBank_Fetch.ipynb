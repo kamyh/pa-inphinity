{
 "cells": [
  {
   "cell_type": "markdown",
   "metadata": {},
   "source": [
    "# Configuration + Imports"
   ]
  },
  {
   "cell_type": "code",
   "execution_count": 7,
   "metadata": {
    "collapsed": false
   },
   "outputs": [],
   "source": [
    "from Bio import Entrez, SeqIO\n",
    "import time\n",
    "from lxml import html\n",
    "import requests\n",
    "import urllib\n",
    "import sys\n",
    "\n",
    "Entrez.email = \"vincent.deruaz@master.hes-so.ch\"\n"
   ]
  },
  {
   "cell_type": "markdown",
   "metadata": {},
   "source": [
    "# Populate db\n",
    "## Class"
   ]
  },
  {
   "cell_type": "code",
   "execution_count": 8,
   "metadata": {
    "collapsed": false
   },
   "outputs": [],
   "source": [
    "class db_population():\n",
    "    def get_informations_from_phage_db(self, phage_name):\n",
    "        page = requests.get('http://phagesdb.org/phages/%s' % (phage_name))\n",
    "        tree = html.fromstring(page.content)\n",
    "\n",
    "        host = tree.xpath('//*[@id=\"phageDetails\"]/tbody/tr/td[2]/a/em/text()')[0]\n",
    "\n",
    "        return host\n",
    "\n",
    "    def get_list_Phage_from_ebi(self, ):\n",
    "        pass_first = 0\n",
    "        access_ids = []\n",
    "\n",
    "        for line in open('./phages_list_1.txt','r'):\n",
    "            if pass_first < 2:\n",
    "                pass_first += 1\n",
    "                pass\n",
    "            else:\n",
    "                index_tab = line.index(\"\\t\")\n",
    "                access_ids.append(line[0:index_tab])\n",
    "\n",
    "        return access_ids\n",
    "\n",
    "    def write_gb_file(self, GIs, sub_dir):\n",
    "        counter = 0\n",
    "\n",
    "        for genome_id in GIs:\n",
    "            counter += 1\n",
    "            try:\n",
    "                record = Entrez.efetch(db=\"nuccore\", id=genome_id, rettype=\"gb\", retmode=\"text\")\n",
    "\n",
    "                filename = 'generated/{}genBankRecord_{}.gb'.format(sub_dir, genome_id)\n",
    "                #print('{} - Writing:{}'.format(counter, filename))\n",
    "                sys.stdout.write('\\r%d - %s' % (counter, filename))\n",
    "                with open(filename, 'w') as f:\n",
    "                    f.write(record.read())\n",
    "            except urllib.error.HTTPError as err:\n",
    "                print(err.code)\n",
    "        print('\\n')\n",
    "\n",
    "db_population = db_population()"
   ]
  },
  {
   "cell_type": "markdown",
   "metadata": {
    "collapsed": true
   },
   "source": [
    "## Uses"
   ]
  },
  {
   "cell_type": "code",
   "execution_count": 9,
   "metadata": {
    "collapsed": false,
    "scrolled": false
   },
   "outputs": [
    {
     "name": "stdout",
     "output_type": "stream",
     "text": [
      "Number Of Access Ids: 2480\n",
      "2480 - generated/all_from_list_1genBankRecord_HG531932.1.gb\n",
      "\n"
     ]
    }
   ],
   "source": [
    "\n",
    "\n",
    "access_ids = db_population.get_list_Phage_from_ebi()\n",
    "print('Number Of Access Ids: %d' % (len(access_ids)))\n",
    "\n",
    "#db_population.write_gb_file(access_ids[:10]) \n",
    "#db_population.write_gb_file(access_ids[11:20], '17052016-1038/')\n",
    "#db_population.write_gb_file(access_ids[21:31], '17052016-1146/')\n",
    "#db_population.write_gb_file(access_ids[32:62], '17052016-1224/')\n",
    "#db_population.write_gb_file(access_ids[63:163], '17052016-1244/')\n",
    "#db_population.write_gb_file(access_ids[164:1000], '17052016-1425/')\n",
    "db_population.write_gb_file(access_ids, 'all_from_list_1')"
   ]
  },
  {
   "cell_type": "code",
   "execution_count": null,
   "metadata": {
    "collapsed": true
   },
   "outputs": [],
   "source": []
  }
 ],
 "metadata": {
  "kernelspec": {
   "display_name": "Python 3",
   "language": "python",
   "name": "python3"
  },
  "language_info": {
   "codemirror_mode": {
    "name": "ipython",
    "version": 3
   },
   "file_extension": ".py",
   "mimetype": "text/x-python",
   "name": "python",
   "nbconvert_exporter": "python",
   "pygments_lexer": "ipython3",
   "version": "3.5.1"
  }
 },
 "nbformat": 4,
 "nbformat_minor": 0
}
