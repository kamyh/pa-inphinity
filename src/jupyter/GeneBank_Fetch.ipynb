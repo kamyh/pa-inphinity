{
 "cells": [
  {
   "cell_type": "markdown",
   "metadata": {},
   "source": [
    "# Configuration"
   ]
  },
  {
   "cell_type": "code",
   "execution_count": 1,
   "metadata": {
    "collapsed": false
   },
   "outputs": [],
   "source": [
    "from Bio import Entrez\n",
    "import time\n",
    "\n",
    "Entrez.email = \"vincent.deruaz@master.hes-so.ch\"\n"
   ]
  },
  {
   "cell_type": "markdown",
   "metadata": {},
   "source": [
    "# Fetching"
   ]
  },
  {
   "cell_type": "code",
   "execution_count": null,
   "metadata": {
    "collapsed": false
   },
   "outputs": [],
   "source": [
    "\n",
    "GI = ['665393386']\n",
    "gb = Entrez.efetch(db=\"nuccore\",id=GI,rettype=\"gb\",retmode=\"text\")\n",
    "gb_file = gb.read()\n",
    "gb.close()\n",
    "print gb_file"
   ]
  },
  {
   "cell_type": "markdown",
   "metadata": {},
   "source": [
    "# Output in GB format"
   ]
  },
  {
   "cell_type": "code",
   "execution_count": 10,
   "metadata": {
    "collapsed": false
   },
   "outputs": [
    {
     "name": "stdout",
     "output_type": "stream",
     "text": [
      "Writing:generated/genBankRecord_282598706.gb\n"
     ]
    }
   ],
   "source": [
    "GI = ['282598706']\n",
    "\n",
    "for genome_id in GI:\n",
    "    record = Entrez.efetch(db=\"nuccore\", id=genome_id, rettype=\"gb\", retmode=\"text\")\n",
    "\n",
    "    filename = 'generated/genBankRecord_{}.gb'.format(genome_id)\n",
    "    print('Writing:{}'.format(filename))\n",
    "    with open(filename, 'w') as f:\n",
    "        f.write(record.read())"
   ]
  },
  {
   "cell_type": "code",
   "execution_count": 11,
   "metadata": {
    "collapsed": false
   },
   "outputs": [
    {
     "name": "stdout",
     "output_type": "stream",
     "text": [
      "Writing:generated/genBankRecord_1460534149.gb\n"
     ]
    }
   ],
   "source": [
    "GI_2 = ['9626243','282598706'] \n",
    "\"\"\"effectively load two phages in file but cannot be read by phamerator\"\"\"\n",
    "\"\"\"WHY ???\"\"\"\n",
    "\n",
    "record = Entrez.efetch(db=\"nuccore\", id=GI_2, rettype=\"gb\", retmode=\"text\")\n",
    "\n",
    "filename = 'generated/genBankRecord_{}.gb'.format(int(time.time()))\n",
    "print('Writing:{}'.format(filename))\n",
    "with open(filename, 'w') as f:\n",
    "    f.write(record.read())"
   ]
  },
  {
   "cell_type": "code",
   "execution_count": null,
   "metadata": {
    "collapsed": true
   },
   "outputs": [],
   "source": []
  }
 ],
 "metadata": {
  "kernelspec": {
   "display_name": "Python 2",
   "language": "python",
   "name": "python2"
  },
  "language_info": {
   "codemirror_mode": {
    "name": "ipython",
    "version": 2
   },
   "file_extension": ".py",
   "mimetype": "text/x-python",
   "name": "python",
   "nbconvert_exporter": "python",
   "pygments_lexer": "ipython2",
   "version": "2.7.11"
  }
 },
 "nbformat": 4,
 "nbformat_minor": 0
}
